{
 "cells": [
  {
   "cell_type": "code",
   "execution_count": 1,
   "metadata": {},
   "outputs": [
    {
     "name": "stderr",
     "output_type": "stream",
     "text": [
      "C:\\Users\\Samarth\\Anaconda3\\lib\\site-packages\\gensim\\utils.py:1212: UserWarning: detected Windows; aliasing chunkize to chunkize_serial\n",
      "  warnings.warn(\"detected Windows; aliasing chunkize to chunkize_serial\")\n"
     ]
    }
   ],
   "source": [
    "import pandas as pd\n",
    "import gensim\n",
    "from nltk.tokenize import word_tokenize\n",
    "from nltk.stem import WordNetLemmatizer\n",
    "from string import punctuation\n",
    "from nltk.corpus import stopwords\n",
    "from gensim import corpora\n",
    "from gensim.models import CoherenceModel\n",
    "import pyLDAvis.gensim\n",
    "import warnings\n",
    "warnings.filterwarnings('ignore')"
   ]
  },
  {
   "cell_type": "code",
   "execution_count": 2,
   "metadata": {},
   "outputs": [],
   "source": [
    "df = pd.read_csv('C:/Users/Samarth/Desktop/Mtech AI/NLP/Data/Consumer_Complaints.csv')"
   ]
  },
  {
   "cell_type": "code",
   "execution_count": 3,
   "metadata": {},
   "outputs": [
    {
     "data": {
      "text/html": [
       "<div>\n",
       "<style scoped>\n",
       "    .dataframe tbody tr th:only-of-type {\n",
       "        vertical-align: middle;\n",
       "    }\n",
       "\n",
       "    .dataframe tbody tr th {\n",
       "        vertical-align: top;\n",
       "    }\n",
       "\n",
       "    .dataframe thead th {\n",
       "        text-align: right;\n",
       "    }\n",
       "</style>\n",
       "<table border=\"1\" class=\"dataframe\">\n",
       "  <thead>\n",
       "    <tr style=\"text-align: right;\">\n",
       "      <th></th>\n",
       "      <th>Date received</th>\n",
       "      <th>Product</th>\n",
       "      <th>Sub-product</th>\n",
       "      <th>Issue</th>\n",
       "      <th>Sub-issue</th>\n",
       "      <th>Consumer complaint narrative</th>\n",
       "      <th>Company public response</th>\n",
       "      <th>Company</th>\n",
       "      <th>State</th>\n",
       "      <th>ZIP code</th>\n",
       "      <th>Tags</th>\n",
       "      <th>Consumer consent provided?</th>\n",
       "      <th>Submitted via</th>\n",
       "      <th>Date sent to company</th>\n",
       "      <th>Company response to consumer</th>\n",
       "      <th>Timely response?</th>\n",
       "      <th>Consumer disputed?</th>\n",
       "      <th>Complaint ID</th>\n",
       "    </tr>\n",
       "  </thead>\n",
       "  <tbody>\n",
       "    <tr>\n",
       "      <th>0</th>\n",
       "      <td>3/12/2014</td>\n",
       "      <td>Mortgage</td>\n",
       "      <td>Other mortgage</td>\n",
       "      <td>Loan modification,collection,foreclosure</td>\n",
       "      <td>NaN</td>\n",
       "      <td>NaN</td>\n",
       "      <td>NaN</td>\n",
       "      <td>M&amp;T BANK CORPORATION</td>\n",
       "      <td>MI</td>\n",
       "      <td>48382</td>\n",
       "      <td>NaN</td>\n",
       "      <td>NaN</td>\n",
       "      <td>Referral</td>\n",
       "      <td>3/17/2014</td>\n",
       "      <td>Closed with explanation</td>\n",
       "      <td>Yes</td>\n",
       "      <td>No</td>\n",
       "      <td>759217</td>\n",
       "    </tr>\n",
       "    <tr>\n",
       "      <th>1</th>\n",
       "      <td>10/1/2016</td>\n",
       "      <td>Credit reporting</td>\n",
       "      <td>NaN</td>\n",
       "      <td>Incorrect information on credit report</td>\n",
       "      <td>Account status</td>\n",
       "      <td>I have outdated information on my credit repor...</td>\n",
       "      <td>Company has responded to the consumer and the ...</td>\n",
       "      <td>TRANSUNION INTERMEDIATE HOLDINGS, INC.</td>\n",
       "      <td>AL</td>\n",
       "      <td>352XX</td>\n",
       "      <td>NaN</td>\n",
       "      <td>Consent provided</td>\n",
       "      <td>Web</td>\n",
       "      <td>10/5/2016</td>\n",
       "      <td>Closed with explanation</td>\n",
       "      <td>Yes</td>\n",
       "      <td>No</td>\n",
       "      <td>2141773</td>\n",
       "    </tr>\n",
       "    <tr>\n",
       "      <th>2</th>\n",
       "      <td>10/17/2016</td>\n",
       "      <td>Consumer Loan</td>\n",
       "      <td>Vehicle loan</td>\n",
       "      <td>Managing the loan or lease</td>\n",
       "      <td>NaN</td>\n",
       "      <td>I purchased a new car on XXXX XXXX. The car de...</td>\n",
       "      <td>NaN</td>\n",
       "      <td>CITIZENS FINANCIAL GROUP, INC.</td>\n",
       "      <td>PA</td>\n",
       "      <td>177XX</td>\n",
       "      <td>Older American</td>\n",
       "      <td>Consent provided</td>\n",
       "      <td>Web</td>\n",
       "      <td>10/20/2016</td>\n",
       "      <td>Closed with explanation</td>\n",
       "      <td>Yes</td>\n",
       "      <td>No</td>\n",
       "      <td>2163100</td>\n",
       "    </tr>\n",
       "    <tr>\n",
       "      <th>3</th>\n",
       "      <td>6/8/2014</td>\n",
       "      <td>Credit card</td>\n",
       "      <td>NaN</td>\n",
       "      <td>Bankruptcy</td>\n",
       "      <td>NaN</td>\n",
       "      <td>NaN</td>\n",
       "      <td>NaN</td>\n",
       "      <td>AMERICAN EXPRESS COMPANY</td>\n",
       "      <td>ID</td>\n",
       "      <td>83854</td>\n",
       "      <td>Older American</td>\n",
       "      <td>NaN</td>\n",
       "      <td>Web</td>\n",
       "      <td>6/10/2014</td>\n",
       "      <td>Closed with explanation</td>\n",
       "      <td>Yes</td>\n",
       "      <td>Yes</td>\n",
       "      <td>885638</td>\n",
       "    </tr>\n",
       "    <tr>\n",
       "      <th>4</th>\n",
       "      <td>9/13/2014</td>\n",
       "      <td>Debt collection</td>\n",
       "      <td>Credit card</td>\n",
       "      <td>Communication tactics</td>\n",
       "      <td>Frequent or repeated calls</td>\n",
       "      <td>NaN</td>\n",
       "      <td>NaN</td>\n",
       "      <td>CITIBANK, N.A.</td>\n",
       "      <td>VA</td>\n",
       "      <td>23233</td>\n",
       "      <td>NaN</td>\n",
       "      <td>NaN</td>\n",
       "      <td>Web</td>\n",
       "      <td>9/13/2014</td>\n",
       "      <td>Closed with explanation</td>\n",
       "      <td>Yes</td>\n",
       "      <td>Yes</td>\n",
       "      <td>1027760</td>\n",
       "    </tr>\n",
       "  </tbody>\n",
       "</table>\n",
       "</div>"
      ],
      "text/plain": [
       "  Date received           Product     Sub-product  \\\n",
       "0     3/12/2014          Mortgage  Other mortgage   \n",
       "1     10/1/2016  Credit reporting             NaN   \n",
       "2    10/17/2016     Consumer Loan    Vehicle loan   \n",
       "3      6/8/2014       Credit card             NaN   \n",
       "4     9/13/2014   Debt collection     Credit card   \n",
       "\n",
       "                                      Issue                   Sub-issue  \\\n",
       "0  Loan modification,collection,foreclosure                         NaN   \n",
       "1    Incorrect information on credit report              Account status   \n",
       "2                Managing the loan or lease                         NaN   \n",
       "3                                Bankruptcy                         NaN   \n",
       "4                     Communication tactics  Frequent or repeated calls   \n",
       "\n",
       "                        Consumer complaint narrative  \\\n",
       "0                                                NaN   \n",
       "1  I have outdated information on my credit repor...   \n",
       "2  I purchased a new car on XXXX XXXX. The car de...   \n",
       "3                                                NaN   \n",
       "4                                                NaN   \n",
       "\n",
       "                             Company public response  \\\n",
       "0                                                NaN   \n",
       "1  Company has responded to the consumer and the ...   \n",
       "2                                                NaN   \n",
       "3                                                NaN   \n",
       "4                                                NaN   \n",
       "\n",
       "                                  Company State ZIP code            Tags  \\\n",
       "0                    M&T BANK CORPORATION    MI    48382             NaN   \n",
       "1  TRANSUNION INTERMEDIATE HOLDINGS, INC.    AL    352XX             NaN   \n",
       "2          CITIZENS FINANCIAL GROUP, INC.    PA    177XX  Older American   \n",
       "3                AMERICAN EXPRESS COMPANY    ID    83854  Older American   \n",
       "4                          CITIBANK, N.A.    VA    23233             NaN   \n",
       "\n",
       "  Consumer consent provided? Submitted via Date sent to company  \\\n",
       "0                        NaN      Referral            3/17/2014   \n",
       "1           Consent provided           Web            10/5/2016   \n",
       "2           Consent provided           Web           10/20/2016   \n",
       "3                        NaN           Web            6/10/2014   \n",
       "4                        NaN           Web            9/13/2014   \n",
       "\n",
       "  Company response to consumer Timely response? Consumer disputed?  \\\n",
       "0      Closed with explanation              Yes                 No   \n",
       "1      Closed with explanation              Yes                 No   \n",
       "2      Closed with explanation              Yes                 No   \n",
       "3      Closed with explanation              Yes                Yes   \n",
       "4      Closed with explanation              Yes                Yes   \n",
       "\n",
       "   Complaint ID  \n",
       "0        759217  \n",
       "1       2141773  \n",
       "2       2163100  \n",
       "3        885638  \n",
       "4       1027760  "
      ]
     },
     "execution_count": 3,
     "metadata": {},
     "output_type": "execute_result"
    }
   ],
   "source": [
    "df.head()"
   ]
  },
  {
   "cell_type": "code",
   "execution_count": 4,
   "metadata": {},
   "outputs": [],
   "source": [
    "df = df[['Consumer complaint narrative','Product']]"
   ]
  },
  {
   "cell_type": "code",
   "execution_count": 5,
   "metadata": {},
   "outputs": [
    {
     "data": {
      "text/html": [
       "<div>\n",
       "<style scoped>\n",
       "    .dataframe tbody tr th:only-of-type {\n",
       "        vertical-align: middle;\n",
       "    }\n",
       "\n",
       "    .dataframe tbody tr th {\n",
       "        vertical-align: top;\n",
       "    }\n",
       "\n",
       "    .dataframe thead th {\n",
       "        text-align: right;\n",
       "    }\n",
       "</style>\n",
       "<table border=\"1\" class=\"dataframe\">\n",
       "  <thead>\n",
       "    <tr style=\"text-align: right;\">\n",
       "      <th></th>\n",
       "      <th>Consumer complaint narrative</th>\n",
       "      <th>Product</th>\n",
       "    </tr>\n",
       "  </thead>\n",
       "  <tbody>\n",
       "    <tr>\n",
       "      <th>0</th>\n",
       "      <td>NaN</td>\n",
       "      <td>Mortgage</td>\n",
       "    </tr>\n",
       "    <tr>\n",
       "      <th>1</th>\n",
       "      <td>I have outdated information on my credit repor...</td>\n",
       "      <td>Credit reporting</td>\n",
       "    </tr>\n",
       "    <tr>\n",
       "      <th>2</th>\n",
       "      <td>I purchased a new car on XXXX XXXX. The car de...</td>\n",
       "      <td>Consumer Loan</td>\n",
       "    </tr>\n",
       "    <tr>\n",
       "      <th>3</th>\n",
       "      <td>NaN</td>\n",
       "      <td>Credit card</td>\n",
       "    </tr>\n",
       "    <tr>\n",
       "      <th>4</th>\n",
       "      <td>NaN</td>\n",
       "      <td>Debt collection</td>\n",
       "    </tr>\n",
       "  </tbody>\n",
       "</table>\n",
       "</div>"
      ],
      "text/plain": [
       "                        Consumer complaint narrative           Product\n",
       "0                                                NaN          Mortgage\n",
       "1  I have outdated information on my credit repor...  Credit reporting\n",
       "2  I purchased a new car on XXXX XXXX. The car de...     Consumer Loan\n",
       "3                                                NaN       Credit card\n",
       "4                                                NaN   Debt collection"
      ]
     },
     "execution_count": 5,
     "metadata": {},
     "output_type": "execute_result"
    }
   ],
   "source": [
    "df.head()"
   ]
  },
  {
   "cell_type": "code",
   "execution_count": 6,
   "metadata": {},
   "outputs": [
    {
     "data": {
      "text/plain": [
       "Consumer complaint narrative    704013\n",
       "Product                              0\n",
       "dtype: int64"
      ]
     },
     "execution_count": 6,
     "metadata": {},
     "output_type": "execute_result"
    }
   ],
   "source": [
    "df.isna().sum()"
   ]
  },
  {
   "cell_type": "code",
   "execution_count": 7,
   "metadata": {},
   "outputs": [],
   "source": [
    "df.dropna(inplace=True)\n",
    "df = df[:1000]"
   ]
  },
  {
   "cell_type": "code",
   "execution_count": 8,
   "metadata": {},
   "outputs": [
    {
     "data": {
      "text/plain": [
       "(1000, 2)"
      ]
     },
     "execution_count": 8,
     "metadata": {},
     "output_type": "execute_result"
    }
   ],
   "source": [
    "df.shape"
   ]
  },
  {
   "cell_type": "code",
   "execution_count": 9,
   "metadata": {},
   "outputs": [],
   "source": [
    "lem = WordNetLemmatizer()\n",
    "stop_words = list(set(stopwords.words('english')))+list(punctuation)+['xxxx','xxx','xx','xxxxx','xxxx xxxx','l.']"
   ]
  },
  {
   "cell_type": "code",
   "execution_count": 10,
   "metadata": {},
   "outputs": [],
   "source": [
    "def cleaning(text):\n",
    "    text = text.lower()\n",
    "    word = word_tokenize(text)\n",
    "    word = [w for w in word if w not in stop_words]\n",
    "    words = [lem.lemmatize(w,'v') for w in word]\n",
    "    return words"
   ]
  },
  {
   "cell_type": "code",
   "execution_count": 11,
   "metadata": {},
   "outputs": [],
   "source": [
    "complaints = list(df['Consumer complaint narrative'].values)"
   ]
  },
  {
   "cell_type": "code",
   "execution_count": 12,
   "metadata": {},
   "outputs": [],
   "source": [
    "data = [cleaning(text) for text in complaints]"
   ]
  },
  {
   "cell_type": "markdown",
   "metadata": {},
   "source": [
    "### Creating a dictionary with unique id for each word"
   ]
  },
  {
   "cell_type": "code",
   "execution_count": 13,
   "metadata": {},
   "outputs": [],
   "source": [
    "dictionary = corpora.Dictionary(data)"
   ]
  },
  {
   "cell_type": "code",
   "execution_count": 14,
   "metadata": {},
   "outputs": [],
   "source": [
    "doc_term_matrix = [dictionary.doc2bow(doc) for doc in data]"
   ]
  },
  {
   "cell_type": "markdown",
   "metadata": {},
   "source": [
    "### To see how the words are mapped in the dictionary"
   ]
  },
  {
   "cell_type": "code",
   "execution_count": 15,
   "metadata": {},
   "outputs": [
    {
     "name": "stdout",
     "output_type": "stream",
     "text": [
      "[[('credit', 2), ('dispute', 1), ('information', 2), ('meet', 1), ('old', 1), ('outdated', 1), ('previously', 1), ('remove', 1), ('report', 2), ('requirements', 1), ('seven', 1), ('years', 1), ('yet', 1)]]\n"
     ]
    }
   ],
   "source": [
    "print ([[(dictionary[id], freq) for id, freq in cp] for cp in doc_term_matrix[:1]])"
   ]
  },
  {
   "cell_type": "markdown",
   "metadata": {},
   "source": [
    "### Here we can interpret that first five topics"
   ]
  },
  {
   "cell_type": "code",
   "execution_count": 16,
   "metadata": {},
   "outputs": [
    {
     "name": "stdout",
     "output_type": "stream",
     "text": [
      "[(0, '0.047*\"report\" + 0.040*\"credit\" + 0.026*\"account\" + 0.021*\"information\" + 0.014*\"dispute\" + 0.011*\"request\" + 0.010*\"remove\"'), (1, '0.036*\"loan\" + 0.012*\"interest\" + 0.012*\"``\" + 0.010*\"pay\" + 0.008*\"make\" + 0.008*\"payments\" + 0.008*\"amount\"'), (2, '0.020*\"bank\" + 0.015*\"account\" + 0.012*\"mortgage\" + 0.010*\"check\" + 0.010*\"would\" + 0.010*\"tell\" + 0.010*\"``\"'), (3, '0.032*\"debt\" + 0.018*\"pay\" + 0.010*\"collection\" + 0.010*\"call\" + 0.009*\"company\" + 0.009*\"receive\" + 0.008*\"send\"'), (4, '0.023*\"call\" + 0.019*\"credit\" + 0.017*\"account\" + 0.013*\"card\" + 0.012*\"pay\" + 0.011*\"say\" + 0.010*\"get\"')]\n"
     ]
    }
   ],
   "source": [
    "Lda = gensim.models.ldamodel.LdaModel\n",
    "ldamodel = Lda(corpus = doc_term_matrix, num_topics=5, id2word = dictionary, passes=50)\n",
    "print(ldamodel.print_topics(num_topics=5, num_words=7))"
   ]
  },
  {
   "cell_type": "markdown",
   "metadata": {},
   "source": [
    "### Coherence Model basically divides the process into 4 different stages i.e. Segmentation, Probability Approch, Confirmation Measure and Aggregation. The topic coherence is applied to the top N words from the topic. It is defined as the average of the pairwise word-similarity scores of the words in the topic. Hence higher the score better the model is"
   ]
  },
  {
   "cell_type": "code",
   "execution_count": 17,
   "metadata": {},
   "outputs": [
    {
     "name": "stdout",
     "output_type": "stream",
     "text": [
      "Perplexity:  -7.067617307273172\n",
      "Coherence Score:  0.41391777481759445\n"
     ]
    }
   ],
   "source": [
    "print('Perplexity: ', ldamodel.log_perplexity(doc_term_matrix))  # a measure of how good the model is. lower the better.\n",
    "\n",
    "coherence_model_lda = CoherenceModel(model=ldamodel, texts=data, dictionary=dictionary, coherence='c_v')\n",
    "coherence_lda = coherence_model_lda.get_coherence()\n",
    "print('Coherence Score: ', coherence_lda)"
   ]
  },
  {
   "cell_type": "code",
   "execution_count": 18,
   "metadata": {},
   "outputs": [
    {
     "data": {
      "text/html": [
       "\n",
       "<link rel=\"stylesheet\" type=\"text/css\" href=\"https://cdn.rawgit.com/bmabey/pyLDAvis/files/ldavis.v1.0.0.css\">\n",
       "\n",
       "\n",
       "<div id=\"ldavis_el54807641694705049242204320\"></div>\n",
       "<script type=\"text/javascript\">\n",
       "\n",
       "var ldavis_el54807641694705049242204320_data = {\"mdsDat\": {\"x\": [0.057503885517134035, 0.02117751526868525, -0.1959750200864096, -0.020252629041559434, 0.13754624834214957], \"y\": [-0.05148570851838139, -0.08745000820651133, 0.057452127013182315, -0.030824185394809012, 0.11230777510651933], \"topics\": [1, 2, 3, 4, 5], \"cluster\": [1, 1, 1, 1, 1], \"Freq\": [30.64006233215332, 26.420644760131836, 18.603769302368164, 12.493309020996094, 11.842222213745117]}, \"tinfo\": {\"Category\": [\"Default\", \"Default\", \"Default\", \"Default\", \"Default\", \"Default\", \"Default\", \"Default\", \"Default\", \"Default\", \"Default\", \"Default\", \"Default\", \"Default\", \"Default\", \"Default\", \"Default\", \"Default\", \"Default\", \"Default\", \"Default\", \"Default\", \"Default\", \"Default\", \"Default\", \"Default\", \"Default\", \"Default\", \"Default\", \"Default\", \"Topic1\", \"Topic1\", \"Topic1\", \"Topic1\", \"Topic1\", \"Topic1\", \"Topic1\", \"Topic1\", \"Topic1\", \"Topic1\", \"Topic1\", \"Topic1\", \"Topic1\", \"Topic1\", \"Topic1\", \"Topic1\", \"Topic1\", \"Topic1\", \"Topic1\", \"Topic1\", \"Topic1\", \"Topic1\", \"Topic1\", \"Topic1\", \"Topic1\", \"Topic1\", \"Topic1\", \"Topic1\", \"Topic1\", \"Topic1\", \"Topic1\", \"Topic1\", \"Topic1\", \"Topic1\", \"Topic1\", \"Topic1\", \"Topic1\", \"Topic1\", \"Topic1\", \"Topic1\", \"Topic1\", \"Topic1\", \"Topic1\", \"Topic1\", \"Topic1\", \"Topic1\", \"Topic1\", \"Topic1\", \"Topic1\", \"Topic1\", \"Topic1\", \"Topic1\", \"Topic1\", \"Topic1\", \"Topic1\", \"Topic1\", \"Topic1\", \"Topic1\", \"Topic1\", \"Topic1\", \"Topic1\", \"Topic1\", \"Topic1\", \"Topic1\", \"Topic1\", \"Topic1\", \"Topic1\", \"Topic1\", \"Topic1\", \"Topic1\", \"Topic1\", \"Topic1\", \"Topic1\", \"Topic1\", \"Topic1\", \"Topic1\", \"Topic1\", \"Topic1\", \"Topic1\", \"Topic2\", \"Topic2\", \"Topic2\", \"Topic2\", \"Topic2\", \"Topic2\", \"Topic2\", \"Topic2\", \"Topic2\", \"Topic2\", \"Topic2\", \"Topic2\", \"Topic2\", \"Topic2\", \"Topic2\", \"Topic2\", \"Topic2\", \"Topic2\", \"Topic2\", \"Topic2\", \"Topic2\", \"Topic2\", \"Topic2\", \"Topic2\", \"Topic2\", \"Topic2\", \"Topic2\", \"Topic2\", \"Topic2\", \"Topic2\", \"Topic2\", \"Topic2\", \"Topic2\", \"Topic2\", \"Topic2\", \"Topic2\", \"Topic2\", \"Topic2\", \"Topic2\", \"Topic2\", \"Topic2\", \"Topic2\", \"Topic2\", \"Topic2\", \"Topic2\", \"Topic2\", \"Topic2\", \"Topic2\", \"Topic2\", \"Topic2\", \"Topic2\", \"Topic2\", \"Topic2\", \"Topic2\", \"Topic2\", \"Topic2\", \"Topic2\", \"Topic2\", \"Topic2\", \"Topic2\", \"Topic2\", \"Topic2\", \"Topic2\", \"Topic2\", \"Topic2\", \"Topic2\", \"Topic2\", \"Topic2\", \"Topic2\", \"Topic2\", \"Topic2\", \"Topic2\", \"Topic2\", \"Topic2\", \"Topic3\", \"Topic3\", \"Topic3\", \"Topic3\", \"Topic3\", \"Topic3\", \"Topic3\", \"Topic3\", \"Topic3\", \"Topic3\", \"Topic3\", \"Topic3\", \"Topic3\", \"Topic3\", \"Topic3\", \"Topic3\", \"Topic3\", \"Topic3\", \"Topic3\", \"Topic3\", \"Topic3\", \"Topic3\", \"Topic3\", \"Topic3\", \"Topic3\", \"Topic3\", \"Topic3\", \"Topic3\", \"Topic3\", \"Topic3\", \"Topic3\", \"Topic3\", \"Topic3\", \"Topic3\", \"Topic3\", \"Topic3\", \"Topic3\", \"Topic3\", \"Topic3\", \"Topic3\", \"Topic3\", \"Topic3\", \"Topic3\", \"Topic3\", \"Topic3\", \"Topic3\", \"Topic3\", \"Topic3\", \"Topic3\", \"Topic3\", \"Topic3\", \"Topic3\", \"Topic3\", \"Topic3\", \"Topic3\", \"Topic3\", \"Topic3\", \"Topic3\", \"Topic3\", \"Topic3\", \"Topic3\", \"Topic3\", \"Topic3\", \"Topic3\", \"Topic3\", \"Topic3\", \"Topic3\", \"Topic3\", \"Topic3\", \"Topic4\", \"Topic4\", \"Topic4\", \"Topic4\", \"Topic4\", \"Topic4\", \"Topic4\", \"Topic4\", \"Topic4\", \"Topic4\", \"Topic4\", \"Topic4\", \"Topic4\", \"Topic4\", \"Topic4\", \"Topic4\", \"Topic4\", \"Topic4\", \"Topic4\", \"Topic4\", \"Topic4\", \"Topic4\", \"Topic4\", \"Topic4\", \"Topic4\", \"Topic4\", \"Topic4\", \"Topic4\", \"Topic4\", \"Topic4\", \"Topic4\", \"Topic4\", \"Topic4\", \"Topic4\", \"Topic4\", \"Topic4\", \"Topic4\", \"Topic4\", \"Topic4\", \"Topic4\", \"Topic4\", \"Topic4\", \"Topic4\", \"Topic4\", \"Topic4\", \"Topic4\", \"Topic4\", \"Topic4\", \"Topic4\", \"Topic4\", \"Topic4\", \"Topic4\", \"Topic4\", \"Topic4\", \"Topic4\", \"Topic4\", \"Topic4\", \"Topic4\", \"Topic4\", \"Topic4\", \"Topic4\", \"Topic4\", \"Topic4\", \"Topic4\", \"Topic4\", \"Topic4\", \"Topic4\", \"Topic4\", \"Topic4\", \"Topic4\", \"Topic4\", \"Topic4\", \"Topic4\", \"Topic4\", \"Topic4\", \"Topic4\", \"Topic4\", \"Topic4\", \"Topic4\", \"Topic5\", \"Topic5\", \"Topic5\", \"Topic5\", \"Topic5\", \"Topic5\", \"Topic5\", \"Topic5\", \"Topic5\", \"Topic5\", \"Topic5\", \"Topic5\", \"Topic5\", \"Topic5\", \"Topic5\", \"Topic5\", \"Topic5\", \"Topic5\", \"Topic5\", \"Topic5\", \"Topic5\", \"Topic5\", \"Topic5\", \"Topic5\", \"Topic5\", \"Topic5\", \"Topic5\", \"Topic5\", \"Topic5\", \"Topic5\", \"Topic5\", \"Topic5\", \"Topic5\", \"Topic5\", \"Topic5\", \"Topic5\", \"Topic5\", \"Topic5\", \"Topic5\", \"Topic5\", \"Topic5\", \"Topic5\", \"Topic5\", \"Topic5\", \"Topic5\", \"Topic5\", \"Topic5\", \"Topic5\", \"Topic5\", \"Topic5\", \"Topic5\", \"Topic5\", \"Topic5\", \"Topic5\", \"Topic5\", \"Topic5\", \"Topic5\", \"Topic5\", \"Topic5\", \"Topic5\", \"Topic5\", \"Topic5\", \"Topic5\", \"Topic5\", \"Topic5\", \"Topic5\", \"Topic5\", \"Topic5\", \"Topic5\"], \"Freq\": [932.0, 748.0, 500.0, 1302.0, 752.0, 888.0, 543.0, 397.0, 647.0, 291.0, 195.0, 257.0, 1312.0, 226.0, 477.0, 116.0, 292.0, 93.0, 135.0, 223.0, 88.0, 358.0, 325.0, 183.0, 368.0, 99.0, 131.0, 84.0, 331.0, 393.0, 73.44749450683594, 43.954490661621094, 102.67522430419922, 23.021718978881836, 18.265344619750977, 13.506331443786621, 11.6036376953125, 17.835020065307617, 11.599308967590332, 10.656084060668945, 10.648626327514648, 105.69994354248047, 10.631379127502441, 10.624351501464844, 10.618309020996094, 10.613837242126465, 9.70303726196289, 9.702535629272461, 9.701454162597656, 9.698486328125, 9.690669059753418, 9.685515403747559, 9.681875228881836, 16.69643783569336, 8.752337455749512, 8.751349449157715, 8.750494956970215, 8.745455741882324, 8.740334510803223, 8.722859382629395, 87.28602600097656, 528.7302856445312, 322.8904113769531, 79.31977844238281, 29.194931030273438, 15.296538352966309, 102.99839782714844, 275.8500061035156, 79.28319549560547, 19.882551193237305, 83.05510711669922, 14.431922912597656, 184.71035766601562, 31.97889518737793, 118.87738037109375, 155.1487274169922, 42.148338317871094, 36.97147750854492, 30.499208450317383, 61.899391174316406, 184.6713104248047, 85.61711120605469, 63.26192092895508, 214.71603393554688, 147.3747100830078, 273.0993347167969, 41.614105224609375, 274.52081298828125, 101.94586181640625, 112.957275390625, 156.76083374023438, 269.38995361328125, 165.8863525390625, 410.4392395019531, 236.43447875976562, 268.7198791503906, 195.71046447753906, 203.2103729248047, 209.31808471679688, 191.24058532714844, 196.29737854003906, 223.5521697998047, 162.54660034179688, 140.67007446289062, 177.25665283203125, 132.0695343017578, 137.2637939453125, 122.53898620605469, 127.15315246582031, 36.40655517578125, 25.03595733642578, 15.359865188598633, 11.655717849731445, 11.616354942321777, 15.130104064941406, 26.68343162536621, 25.757360458374023, 9.747285842895508, 9.745335578918457, 9.731399536132812, 9.701537132263184, 8.785980224609375, 8.775996208190918, 10.516106605529785, 7.834296226501465, 7.826907634735107, 7.745838642120361, 6.8797736167907715, 6.879248142242432, 6.878190517425537, 6.877010822296143, 6.873754024505615, 6.871643543243408, 17.054576873779297, 5.924607276916504, 5.92331075668335, 5.921909809112549, 5.920528411865234, 5.919851779937744, 10.937836647033691, 46.38173294067383, 20.415264129638672, 112.00778198242188, 156.6040802001953, 536.892578125, 50.865238189697266, 227.78675842285156, 46.446006774902344, 290.74835205078125, 15.659449577331543, 48.675235748291016, 162.77474975585938, 249.969970703125, 74.51011657714844, 231.7396240234375, 127.16232299804688, 48.371517181396484, 200.27696228027344, 240.15234375, 70.68844604492188, 134.66482543945312, 101.82012176513672, 426.93231201171875, 239.45497131347656, 275.835693359375, 103.04583740234375, 218.43331909179688, 235.41383361816406, 384.8282165527344, 216.87570190429688, 215.88226318359375, 120.84400939941406, 130.27218627929688, 94.262939453125, 129.05519104003906, 125.88114166259766, 154.126220703125, 95.33749389648438, 132.0457763671875, 159.24676513671875, 138.0559844970703, 125.32535552978516, 110.53966522216797, 115.99806213378906, 92.66644287109375, 54.3054084777832, 42.219783782958984, 82.42622375488281, 29.144996643066406, 38.241397857666016, 74.63703918457031, 25.408903121948242, 13.264492988586426, 12.327981948852539, 59.517826080322266, 10.458657264709473, 10.458670616149902, 13.928672790527344, 9.486990928649902, 21.585716247558594, 16.386634826660156, 91.46688079833984, 8.5941743850708, 9.449505805969238, 8.591185569763184, 8.587326049804688, 8.566948890686035, 39.35307693481445, 38.060035705566406, 10.960436820983887, 6.725829601287842, 6.724443435668945, 6.723918437957764, 31.388418197631836, 14.104087829589844, 14.873863220214844, 762.7053833007812, 36.70072555541992, 106.343994140625, 218.8871612548828, 165.65965270996094, 27.318532943725586, 32.285770416259766, 337.2707824707031, 49.56221008300781, 38.35109329223633, 37.121726989746094, 63.4851188659668, 655.2439575195312, 58.01241683959961, 30.954021453857422, 80.14753723144531, 137.71324157714844, 183.74391174316406, 155.7156982421875, 425.8918762207031, 164.8428192138672, 89.74956512451172, 56.62141418457031, 137.75942993164062, 94.59242248535156, 57.26038360595703, 123.95538330078125, 99.30048370361328, 75.54292297363281, 65.98918151855469, 105.85790252685547, 68.92040252685547, 68.1640625, 79.13811492919922, 75.06990814208984, 69.52996063232422, 14.341998100280762, 14.3375244140625, 12.561808586120605, 9.910123825073242, 9.03043270111084, 21.31041145324707, 8.14674186706543, 8.146320343017578, 5.490269184112549, 5.488534450531006, 5.487390041351318, 5.487146854400635, 5.485128879547119, 28.93967628479004, 45.170654296875, 4.603919506072998, 4.600548267364502, 4.58988618850708, 22.679603576660156, 3.7198328971862793, 3.7191147804260254, 3.718928337097168, 3.7184112071990967, 3.717756748199463, 3.717474937438965, 3.717024326324463, 3.716557264328003, 3.7155439853668213, 3.7153093814849854, 3.7152130603790283, 8.14702033996582, 57.189231872558594, 353.3233947753906, 31.613611221313477, 19.298219680786133, 6.378087043762207, 57.070396423339844, 8.896634101867676, 13.727888107299805, 80.52433013916016, 8.887149810791016, 13.435053825378418, 44.19853210449219, 16.801755905151367, 111.97010040283203, 81.93665313720703, 23.782114028930664, 22.951705932617188, 15.90391731262207, 194.18833923339844, 72.8984146118164, 31.350343704223633, 46.813377380371094, 40.51482009887695, 80.35095977783203, 28.456039428710938, 80.31383514404297, 72.4300308227539, 93.57560729980469, 45.156700134277344, 92.91158294677734, 86.3740005493164, 107.4140625, 63.28914260864258, 60.55036544799805, 65.97993469238281, 47.865753173828125, 83.95848846435547, 70.17996215820312, 50.0022087097168, 84.61577606201172, 80.72633361816406, 66.73948669433594, 53.15359878540039, 59.54472732543945, 56.4077033996582, 58.6429328918457, 58.3752555847168, 47.883487701416016, 45.65073776245117, 29.59579849243164, 21.575084686279297, 12.658936500549316, 12.655671119689941, 12.627420425415039, 11.769320487976074, 48.442039489746094, 9.985647201538086, 9.97976016998291, 9.954727172851562, 9.095000267028809, 9.094670295715332, 9.094650268554688, 9.056732177734375, 8.199518203735352, 8.145689964294434, 7.306929588317871, 6.419410228729248, 6.418718338012695, 6.418598651885986, 6.408453941345215, 7.1988205909729, 5.528332710266113, 5.527858734130859, 5.527312755584717, 5.524169445037842, 5.467957496643066, 12.399462699890137, 4.636656284332275, 34.803951263427734, 71.35255432128906, 55.63054275512695, 46.444881439208984, 18.884902954101562, 22.36475372314453, 121.96192169189453, 21.342920303344727, 12.533913612365723, 368.3512268066406, 63.46788024902344, 12.99163818359375, 22.130416870117188, 37.235565185546875, 28.863819122314453, 32.836753845214844, 81.0211181640625, 85.15972137451172, 119.0855484008789, 27.553009033203125, 17.168556213378906, 102.76622009277344, 50.552467346191406, 86.26087188720703, 53.3595085144043, 69.3972396850586, 60.749210357666016, 69.89667510986328, 72.4084701538086, 57.46693420410156, 41.12706756591797, 65.30519104003906, 52.320770263671875, 50.19181823730469, 36.532447814941406, 45.5404052734375, 40.52600860595703, 37.08098602294922, 39.03936004638672], \"Term\": [\"report\", \"loan\", \"debt\", \"credit\", \"pay\", \"call\", \"information\", \"mortgage\", \"bank\", \"dispute\", \"interest\", \"collection\", \"account\", \"remove\", \"card\", \"equifax\", \"amount\", \"experian\", \"agency\", \"bill\", \"rate\", \"payments\", \"file\", \"owe\", \"check\", \"bureaus\", \"verify\", \"identity\", \"charge\", \"request\", \"nationstar\", \"overdraft\", \"chase\", \"hamp\", \"overdraw\", \"maintenance\", \"carrington\", \"atm\", \"pin\", \"shell\", \"divorce\", \"fargo\", \"apartments\", \"withdrawal\", \"seven\", \"trans\", \"bayview\", \"paypal\", \"mod\", \"cable\", \"baby\", \"throughout\", \"19000.00\", \"boa\", \"everbank\", \"fhb\", \"nsf\", \"cc\", \"repossess\", \"hsbc\", \"cash\", \"bank\", \"mortgage\", \"deposit\", \"delay\", \"caliber\", \"america\", \"check\", \"modification\", \"reject\", \"fund\", \"mastercard\", \"fee\", \"branch\", \"us\", \"well\", \"transaction\", \"ocwen\", \"10\", \"bankruptcy\", \"charge\", \"return\", \"property\", \"xx/xx/xxxx\", \"money\", \"tell\", \"wait\", \"would\", \"new\", \"home\", \"back\", \"``\", \"go\", \"account\", \"payment\", \"loan\", \"time\", \"get\", \"receive\", \"send\", \"make\", \"call\", \"card\", \"payments\", \"pay\", \"take\", \"say\", \"letter\", \"credit\", \"hang\", \"macy\", \"promotion\", \"curtis\", \"voicemail\", \"citizen\", \"citibank\", \"cell\", \"mbfs\", \"lynch\", \"120\", \"2014.\", \"international\", \"miles\", \"120.00\", \"cardholder\", \"loancare\", \"aes\", \"resort\", \"oracle\", \"iq\", \"opt\", \"interrupt\", \"diversify\", \"target\", \"promo\", \"rash\", \"merill\", \"xxxx/rash\", \"merchandise\", \"disconnect\", \"citi\", \"ally\", \"customer\", \"bill\", \"call\", \"cancel\", \"number\", \"supervisor\", \"card\", \"insist\", \"message\", \"phone\", \"say\", \"statement\", \"n't\", \"close\", \"today\", \"ask\", \"get\", \"score\", \"could\", \"speak\", \"credit\", \"payment\", \"pay\", \"work\", \"tell\", \"would\", \"account\", \"make\", \"receive\", \"give\", \"service\", \"late\", \"contact\", \"'s\", \"time\", \"one\", \"xx/xx/xxxx\", \"``\", \"send\", \"company\", \"take\", \"equifax\", \"experian\", \"transunion\", \"fcra\", \"identity\", \"sec\", \"inaccurate\", \"delete\", \"usc\", \"scottrade\", \"dob\", \"theft\", \"furnisher\", \"nissan\", \"capitalone\", \"limitations\", \"accurate\", \"affidavit\", \"bureaus\", \"611\", \"resurgent\", \"liens\", \"inaccuracies\", \"commission\", \"inquiry\", \"section\", \"removal\", \"acc\", \"sir\", \"hyundai\", \"inquiries\", \"lvnv\", \"solutions\", \"report\", \"certify\", \"verify\", \"dispute\", \"remove\", \"allege\", \"validate\", \"information\", \"fair\", \"violation\", \"item\", \"act\", \"credit\", \"fraudulent\", \"victim\", \"copy\", \"provide\", \"request\", \"file\", \"account\", \"letter\", \"please\", \"consumer\", \"company\", \"collection\", \"fraud\", \"send\", \"state\", \"date\", \"open\", \"``\", \"show\", \"name\", \"receive\", \"debt\", \"contact\", \"pra\", \"regions\", \"scra\", \"offices\", \"bundle\", \"judgment\", \"fms\", \"ols\", \"kitchen\", \"body\", \"shortage\", \"disgust\", \"ins\", \"portfolio\", \"collector\", \"intimidate\", \"bww\", \"350.00\", \"judgement\", \"rc\", \"mas\", \"fco\", \"safety\", \"aide\", \"dis\", \"dirty\", \"x-wife\", \"itemize\", \"older\", \"overcharge\", \"machine\", \"collections\", \"debt\", \"debts\", \"box\", \"count\", \"collect\", \"debtor\", \"cease\", \"agency\", \"midland\", \"2nd\", \"court\", \"mother\", \"collection\", \"owe\", \"settlement\", \"lien\", \"apartment\", \"pay\", \"balance\", \"move\", \"original\", \"advise\", \"charge\", \"creditor\", \"never\", \"amount\", \"company\", \"continue\", \"receive\", \"send\", \"call\", \"state\", \"file\", \"letter\", \"bill\", \"report\", \"would\", \"money\", \"credit\", \"account\", \"``\", \"contact\", \"make\", \"say\", \"payment\", \"tell\", \"ask\", \"navient\", \"repayment\", \"pnc\", \"bofa\", \"deferment\", \"estate\", \"seneca\", \"student\", \"fedloan\", \"ink\", \"borrower\", \"man/woman\", \"mae\", \"sallie\", \"13000.00\", \"ombudsman\", \"co-signer\", \"affordable\", \"autograph\", \"promissory\", \"ibr\", \"calculations\", \"homeowners\", \"sentient\", \"dtd\", \"university\", \"cure\", \"helpful\", \"repay\", \"2.75\", \"school\", \"rate\", \"plan\", \"lender\", \"daughter\", \"forbearance\", \"interest\", \"servicer\", \"disclosure\", \"loan\", \"contract\", \"predatory\", \"private\", \"income\", \"increase\", \"party\", \"amount\", \"payments\", \"``\", \"refinance\", \"xxxx/xxxx/2016\", \"pay\", \"home\", \"make\", \"years\", \"mortgage\", \"take\", \"time\", \"payment\", \"go\", \"document\", \"would\", \"company\", \"get\", \"like\", \"n't\", \"service\", \"work\", \"tell\"], \"Total\": [932.0, 748.0, 500.0, 1302.0, 752.0, 888.0, 543.0, 397.0, 647.0, 291.0, 195.0, 257.0, 1312.0, 226.0, 477.0, 116.0, 292.0, 93.0, 135.0, 223.0, 88.0, 358.0, 325.0, 183.0, 368.0, 99.0, 131.0, 84.0, 331.0, 393.0, 74.18425750732422, 44.68976593017578, 105.52699279785156, 23.758094787597656, 19.000925064086914, 14.243592262268066, 12.34079647064209, 18.973896026611328, 12.340632438659668, 11.389540672302246, 11.389166831970215, 113.07064056396484, 11.387893676757812, 11.387450218200684, 11.387742042541504, 11.388154983520508, 10.438061714172363, 10.437969207763672, 10.437901496887207, 10.437910079956055, 10.43726634979248, 10.43734073638916, 10.437594413757324, 18.029075622558594, 9.48667049407959, 9.486674308776855, 9.48663330078125, 9.486470222473145, 9.486250877380371, 9.485360145568848, 98.01380157470703, 647.70654296875, 397.7680969238281, 93.6104965209961, 33.28636932373047, 17.03122329711914, 128.49008178710938, 368.058837890625, 100.4083023071289, 22.77439308166504, 109.95262908935547, 16.08515167236328, 265.449462890625, 39.00830841064453, 176.1973876953125, 240.73431396484375, 56.01516342163086, 48.53597640991211, 38.841285705566406, 89.71134185791016, 331.36041259765625, 134.090087890625, 93.22512817382812, 440.5274963378906, 275.7259521484375, 599.8731079101562, 57.73262405395508, 665.64306640625, 184.7716827392578, 212.96231079101562, 331.7655944824219, 720.3197021484375, 371.54840087890625, 1312.4759521484375, 615.8233642578125, 748.1268310546875, 490.0826110839844, 546.0253295898438, 630.6696166992188, 553.2929077148438, 596.1300048828125, 888.6636352539062, 477.3858642578125, 358.43280029296875, 752.4390869140625, 341.68157958984375, 472.9482421875, 423.2582702636719, 1302.5609130859375, 37.236534118652344, 25.769737243652344, 16.21304702758789, 12.391048431396484, 12.390277862548828, 16.21190071105957, 28.60933494567871, 27.67494010925293, 10.479904174804688, 10.47989559173584, 10.479312896728516, 10.476966857910156, 9.524188041687012, 9.523842811584473, 11.42190170288086, 8.568549156188965, 8.568217277526855, 8.566031455993652, 7.613038539886475, 7.612964630126953, 7.612999439239502, 7.612969875335693, 7.612742900848389, 7.6126580238342285, 19.074785232543945, 6.65743350982666, 6.657400131225586, 6.657422065734863, 6.657283306121826, 6.657384872436523, 12.338665962219238, 53.454566955566406, 23.846567153930664, 154.56521606445312, 223.31829833984375, 888.6636352539062, 67.28374481201172, 349.85748291015625, 61.9072265625, 477.3858642578125, 18.95842170715332, 67.7013168334961, 265.8546142578125, 472.9482421875, 118.39913940429688, 455.4635009765625, 226.01988220214844, 73.74823760986328, 409.58477783203125, 546.0253295898438, 123.94849395751953, 284.0640869140625, 203.07363891601562, 1302.5609130859375, 615.8233642578125, 752.4390869140625, 207.86587524414062, 599.8731079101562, 665.64306640625, 1312.4759521484375, 596.1300048828125, 630.6696166992188, 269.5255432128906, 311.2307434082031, 204.03794860839844, 351.7197570800781, 339.6789245605469, 490.0826110839844, 220.76206970214844, 440.5274963378906, 720.3197021484375, 553.2929077148438, 478.4994812011719, 341.68157958984375, 116.7637710571289, 93.4085464477539, 55.10377502441406, 42.96223831176758, 84.08323669433594, 29.883647918701172, 39.230838775634766, 76.62083435058594, 26.146875381469727, 14.002368927001953, 13.068245887756348, 63.478424072265625, 11.199817657470703, 11.199873924255371, 14.942708969116211, 10.265231132507324, 23.362390518188477, 17.738862991333008, 99.02843475341797, 9.331441879272461, 10.262025833129883, 9.331377029418945, 9.33116626739502, 9.331765174865723, 43.017852783203125, 42.01362228393555, 12.142080307006836, 7.463049411773682, 7.463010311126709, 7.462980270385742, 35.556297302246094, 15.823973655700684, 16.7605037689209, 932.2838745117188, 42.85600662231445, 131.57286071777344, 291.6087951660156, 226.16961669921875, 32.4616584777832, 39.072959899902344, 543.0808715820312, 64.4073715209961, 48.53477096557617, 46.831947326660156, 86.41597747802734, 1302.5609130859375, 79.56813049316406, 38.41299057006836, 131.5247039794922, 266.18267822265625, 393.0050048828125, 325.2171630859375, 1312.4759521484375, 423.2582702636719, 170.98541259765625, 93.87849426269531, 478.4994812011719, 257.50128173828125, 99.83551025390625, 553.2929077148438, 347.13677978515625, 231.0794219970703, 156.17193603515625, 720.3197021484375, 191.6786651611328, 221.3000030517578, 630.6696166992188, 500.5779724121094, 351.7197570800781, 15.096246719360352, 15.096502304077148, 13.324987411499023, 10.667533874511719, 9.781396865844727, 23.14224624633789, 8.895622253417969, 8.895514488220215, 6.238317012786865, 6.238450527191162, 6.238431453704834, 6.23852014541626, 6.238610744476318, 33.05026626586914, 51.83649826049805, 5.352540969848633, 5.352503776550293, 5.352802276611328, 26.716691970825195, 4.466738700866699, 4.4667768478393555, 4.466786861419678, 4.466849327087402, 4.466891288757324, 4.466779708862305, 4.466922283172607, 4.466985702514648, 4.4670090675354, 4.466969013214111, 4.466969013214111, 9.829849243164062, 71.77580261230469, 500.5779724121094, 42.121891021728516, 25.149463653564453, 8.01574420928955, 88.70828247070312, 11.567502975463867, 18.94730567932129, 135.29339599609375, 11.694589614868164, 18.7503662109375, 75.02699279785156, 24.380815505981445, 257.50128173828125, 183.99252319335938, 39.68299865722656, 40.146427154541016, 25.442914962768555, 752.4390869140625, 239.03469848632812, 73.48640441894531, 132.9318389892578, 107.8886947631836, 331.36041259765625, 63.918819427490234, 344.2401123046875, 292.1133117675781, 478.4994812011719, 140.42144775390625, 630.6696166992188, 553.2929077148438, 888.6636352539062, 347.13677978515625, 325.2171630859375, 423.2582702636719, 223.31829833984375, 932.2838745117188, 665.64306640625, 275.7259521484375, 1302.5609130859375, 1312.4759521484375, 720.3197021484375, 351.7197570800781, 596.1300048828125, 472.9482421875, 615.8233642578125, 599.8731079101562, 409.58477783203125, 46.39890670776367, 30.34895896911621, 22.32396125793457, 13.407258033752441, 13.40748119354248, 13.408768653869629, 12.515449523925781, 51.8964958190918, 10.732128143310547, 10.732439041137695, 10.73209285736084, 9.840404510498047, 9.840411186218262, 9.840410232543945, 9.843133926391602, 8.948973655700684, 8.95260238647461, 8.057387351989746, 7.165432453155518, 7.165487289428711, 7.165495872497559, 7.165871620178223, 8.062592506408691, 6.273734092712402, 6.2737627029418945, 6.273740291595459, 6.273889064788818, 6.2774434089660645, 14.349564552307129, 5.382068634033203, 41.029876708984375, 88.46214294433594, 73.33560180664062, 60.61371994018555, 23.40287971496582, 28.931013107299805, 195.00982666015625, 28.046117782592773, 15.327166557312012, 748.1268310546875, 100.04914855957031, 16.249874114990234, 33.628658294677734, 70.7647705078125, 51.17996597290039, 68.33444213867188, 292.1133117675781, 358.43280029296875, 720.3197021484375, 63.70759582519531, 28.364757537841797, 752.4390869140625, 212.96231079101562, 596.1300048828125, 237.13882446289062, 397.7680969238281, 341.68157958984375, 490.0826110839844, 615.8233642578125, 371.54840087890625, 183.39178466796875, 665.64306640625, 478.4994812011719, 546.0253295898438, 169.63336181640625, 455.4635009765625, 311.2307434082031, 207.86587524414062, 599.8731079101562], \"loglift\": [30.0, 29.0, 28.0, 27.0, 26.0, 25.0, 24.0, 23.0, 22.0, 21.0, 20.0, 19.0, 18.0, 17.0, 16.0, 15.0, 14.0, 13.0, 12.0, 11.0, 10.0, 9.0, 8.0, 7.0, 6.0, 5.0, 4.0, 3.0, 2.0, 1.0, 1.1728999614715576, 1.1663000583648682, 1.155500054359436, 1.1513999700546265, 1.143399953842163, 1.129699945449829, 1.1212999820709229, 1.121000051498413, 1.12090003490448, 1.1162999868392944, 1.1155999898910522, 1.1154999732971191, 1.1140999794006348, 1.1134999990463257, 1.1129000186920166, 1.1124000549316406, 1.1097999811172485, 1.1097999811172485, 1.1096999645233154, 1.1094000339508057, 1.1086000204086304, 1.1081000566482544, 1.107699990272522, 1.1060999631881714, 1.1023000478744507, 1.1022000312805176, 1.1021000146865845, 1.1015000343322754, 1.1009999513626099, 1.0990999937057495, 1.0669000148773193, 0.9799000024795532, 0.9743000268936157, 1.017199993133545, 1.0516999959945679, 1.0753999948501587, 0.9617000222206116, 0.8945000171661377, 0.9466000199317932, 1.0470999479293823, 0.9023000001907349, 1.0743999481201172, 0.8202000260353088, 0.9842000007629395, 0.7893000245094299, 0.7436000108718872, 0.8984000086784363, 0.9107000231742859, 0.941100001335144, 0.8118000030517578, 0.5982000231742859, 0.7342000007629395, 0.7950999736785889, 0.4641999900341034, 0.5564000010490417, 0.3959999978542328, 0.8554999828338623, 0.2971000075340271, 0.5881999731063843, 0.548799991607666, 0.43320000171661377, 0.19930000603199005, 0.3765000104904175, 0.020400000736117363, 0.225600004196167, 0.1589999943971634, 0.26489999890327454, 0.19439999759197235, 0.07989999651908875, 0.12049999833106995, 0.07199999690055847, -0.1972000002861023, 0.1054999977350235, 0.2475000023841858, -0.2628999948501587, 0.23229999840259552, -0.05420000106096268, -0.056699998676776886, -1.1438000202178955, 1.308500051498413, 1.3020999431610107, 1.2769999504089355, 1.2697999477386475, 1.2664999961853027, 1.2619999647140503, 1.261299967765808, 1.2591999769210815, 1.2585999965667725, 1.2583999633789062, 1.2569999694824219, 1.25409996509552, 1.2503000497817993, 1.2491999864578247, 1.2483999729156494, 1.2414000034332275, 1.2404999732971191, 1.2303999662399292, 1.229699969291687, 1.229699969291687, 1.2295000553131104, 1.2294000387191772, 1.2288999557495117, 1.228600025177002, 1.219099998474121, 1.214400053024292, 1.2142000198364258, 1.2139999866485596, 1.2137000560760498, 1.2136000394821167, 1.2105000019073486, 1.1891000270843506, 1.1756999492645264, 1.0089999437332153, 0.9761000275611877, 0.8270999789237976, 1.051300048828125, 0.9018999934196472, 1.0436999797821045, 0.8352000117301941, 1.1398999691009521, 1.001099944114685, 0.840399980545044, 0.6934000253677368, 0.867900013923645, 0.6553000211715698, 0.7559000253677368, 0.9093000292778015, 0.6155999898910522, 0.5095999836921692, 0.7694000005722046, 0.5845999717712402, 0.6406999826431274, 0.21559999883174896, 0.3864000141620636, 0.32749998569488525, 0.6292999982833862, 0.3208000063896179, 0.29159998893737793, 0.10419999808073044, 0.3199000060558319, 0.2590000033378601, 0.5289000272750854, 0.460099995136261, 0.5587999820709229, 0.32839998602867126, 0.3384000062942505, 0.17419999837875366, 0.49140000343322754, 0.12620000541210175, -0.17820000648498535, -0.05719999969005585, -0.008700000122189522, 0.20250000059604645, 1.6751999855041504, 1.673799991607666, 1.667199969291687, 1.6643999814987183, 1.6619000434875488, 1.6568000316619873, 1.6562999486923218, 1.6555999517440796, 1.6532000303268433, 1.6276999711990356, 1.6234999895095825, 1.617400050163269, 1.6132999658584595, 1.6132999658584595, 1.6115000247955322, 1.6030000448226929, 1.6026999950408936, 1.6024999618530273, 1.6023999452590942, 1.5994999408721924, 1.5993000268936157, 1.5992000102996826, 1.5987000465393066, 1.5963000059127808, 1.5928000211715698, 1.5829999446868896, 1.5793999433517456, 1.5778000354766846, 1.5776000022888184, 1.5774999856948853, 1.5571000576019287, 1.5666999816894531, 1.562399983406067, 1.4809999465942383, 1.5268000364303589, 1.4688999652862549, 1.3948999643325806, 1.3704999685287476, 1.5092999935150146, 1.4910000562667847, 1.205399990081787, 1.419800043106079, 1.4463000297546387, 1.4493999481201172, 1.3733999729156494, 0.994700014591217, 1.3658000230789185, 1.46589994430542, 1.1864999532699585, 1.0227999687194824, 0.921500027179718, 0.9452999830245972, 0.5562999844551086, 0.7387999892234802, 1.0372999906539917, 1.176200032234192, 0.4366999864578247, 0.680400013923645, 1.1259000301361084, 0.1858000010251999, 0.4302000105381012, 0.5637000203132629, 0.8202999830245972, -0.23579999804496765, 0.6589000225067139, 0.5041999816894531, -0.3937999904155731, -0.21549999713897705, 0.06069999933242798, 2.028700113296509, 2.02839994430542, 2.0209999084472656, 2.0062999725341797, 2.0000998973846436, 1.997499942779541, 1.9919999837875366, 1.9919999837875366, 1.9522000551223755, 1.9519000053405762, 1.95169997215271, 1.9515999555587769, 1.951300024986267, 1.9471999406814575, 1.9422999620437622, 1.9292999505996704, 1.9285999536514282, 1.926200032234192, 1.916200041770935, 1.8969999551773071, 1.8968000411987305, 1.8967000246047974, 1.8966000080108643, 1.896399974822998, 1.896399974822998, 1.8961999416351318, 1.8961000442504883, 1.895799994468689, 1.8956999778747559, 1.8956999778747559, 1.892199993133545, 1.8528000116348267, 1.731600046157837, 1.7929999828338623, 1.8151999711990356, 1.8514000177383423, 1.6389000415802002, 1.8174999952316284, 1.757699966430664, 1.5611000061035156, 1.8055000305175781, 1.7466000318527222, 1.5507999658584595, 1.7077000141143799, 1.2472000122070312, 1.2710000276565552, 1.5679999589920044, 1.520799994468689, 1.6101000308990479, 0.7254999876022339, 0.8924000263214111, 1.2280999422073364, 1.0362999439239502, 1.1004999876022339, 0.6632000207901001, 1.2706999778747559, 0.6245999932289124, 0.6855000257492065, 0.4481000006198883, 0.9455000162124634, 0.1648000031709671, 0.22280000150203705, -0.03310000151395798, 0.3779999911785126, 0.39899998903274536, 0.22130000591278076, 0.5397999882698059, -0.3273000121116638, -0.1696999967098236, 0.3725999891757965, -0.6539999842643738, -0.7085999846458435, -0.2989000082015991, 0.19030000269412994, -0.22380000352859497, -0.04639999940991402, -0.27149999141693115, -0.24979999661445618, -0.06639999896287918, 2.1171998977661133, 2.1084001064300537, 2.099400043487549, 2.0761001110076904, 2.0757999420166016, 2.073499917984009, 2.072000026702881, 2.0645999908447266, 2.0613999366760254, 2.060800075531006, 2.058300018310547, 2.0546998977661133, 2.0546998977661133, 2.0546998977661133, 2.0501999855041504, 2.0460000038146973, 2.0390000343322754, 2.0357000827789307, 2.0236001014709473, 2.023400068283081, 2.023400068283081, 2.0218000411987305, 2.02020001411438, 2.006999969482422, 2.0069000720977783, 2.0067999362945557, 2.006200075149536, 1.9953999519348145, 1.9874000549316406, 1.9844000339508057, 1.9688999652862549, 1.9185999631881714, 1.857200026512146, 1.8672000169754028, 1.9190000295639038, 1.876099944114685, 1.664199948310852, 1.8603999614715576, 1.9322999715805054, 1.4249999523162842, 1.6784000396728516, 1.9097000360488892, 1.7151000499725342, 1.4914000034332275, 1.5607000589370728, 1.4005999565124512, 0.8511000275611877, 0.6963000297546387, 0.3336000144481659, 1.295300006866455, 1.6313999891281128, 0.14259999990463257, 0.6953999996185303, 0.2003999948501587, 0.6419000029563904, 0.38749998807907104, 0.40639999508857727, 0.1859000027179718, -0.0071000000461936, 0.2669999897480011, 0.6384999752044678, -0.1881999969482422, -0.07980000227689743, -0.2533000111579895, 0.5981000065803528, -0.16920000314712524, 0.09489999711513519, 0.4097000062465668, -0.5985999703407288], \"logprob\": [30.0, 29.0, 28.0, 27.0, 26.0, 25.0, 24.0, 23.0, 22.0, 21.0, 20.0, 19.0, 18.0, 17.0, 16.0, 15.0, 14.0, 13.0, 12.0, 11.0, 10.0, 9.0, 8.0, 7.0, 6.0, 5.0, 4.0, 3.0, 2.0, 1.0, -5.894700050354004, -6.408100128173828, -5.559700012207031, -7.054800033569336, -7.286300182342529, -7.588099956512451, -7.739999771118164, -7.310100078582764, -7.740300178527832, -7.825099945068359, -7.825799942016602, -5.530700206756592, -7.827499866485596, -7.828100204467773, -7.828700065612793, -7.829100131988525, -7.918799877166748, -7.918900012969971, -7.919000148773193, -7.919300079345703, -7.920100212097168, -7.920599937438965, -7.921000003814697, -7.376100063323975, -8.022000312805176, -8.022100448608398, -8.022199630737305, -8.022700309753418, -8.023300170898438, -8.025300025939941, -5.722099781036377, -3.920799970626831, -4.414000034332275, -5.817800045013428, -6.817299842834473, -7.463600158691406, -5.556600093841553, -4.571400165557861, -5.81820011138916, -7.201399803161621, -5.7718000411987305, -7.5218000411987305, -4.972499847412109, -6.726200103759766, -5.4131999015808105, -5.146900177001953, -6.450099945068359, -6.581099987030029, -6.773600101470947, -6.065800189971924, -4.972700119018555, -5.741399765014648, -6.044000148773193, -4.822000026702881, -5.198299884796143, -4.581399917602539, -6.462800025939941, -4.576200008392334, -5.566800117492676, -5.464300155639648, -5.136600017547607, -4.595099925994873, -5.079999923706055, -4.173999786376953, -4.725599765777588, -4.597599983215332, -4.914599895477295, -4.876999855041504, -4.847400188446045, -4.937699794769287, -4.911600112915039, -4.781599998474121, -5.100299835205078, -5.244900226593018, -5.013700008392334, -5.3078999519348145, -5.269400119781494, -5.382800102233887, -5.345900058746338, -6.448400020599365, -6.822800159454346, -7.311399936676025, -7.587299823760986, -7.590700149536133, -7.326399803161621, -6.759099960327148, -6.794400215148926, -7.76609992980957, -7.766300201416016, -7.7677998542785645, -7.7708001136779785, -7.869999885559082, -7.871099948883057, -7.690199851989746, -7.984600067138672, -7.985499858856201, -7.995999813079834, -8.114500045776367, -8.11460018157959, -8.114800453186035, -8.114899635314941, -8.115400314331055, -8.115699768066406, -7.206699848175049, -8.263999938964844, -8.264200210571289, -8.26449966430664, -8.264699935913086, -8.264800071716309, -7.650899887084961, -6.206200122833252, -7.026800155639648, -5.32450008392334, -4.9893999099731445, -3.7572999000549316, -6.113900184631348, -4.614699840545654, -6.204800128936768, -4.370699882507324, -7.291999816894531, -6.157899856567383, -4.950699806213379, -4.5218000411987305, -5.7322001457214355, -4.597499847412109, -5.1975998878479, -6.1641998291015625, -4.7434000968933105, -4.561800003051758, -5.784800052642822, -5.1402997970581055, -5.419899940490723, -3.9865000247955322, -4.564700126647949, -4.423299789428711, -5.407899856567383, -4.656599998474121, -4.5817999839782715, -4.0903000831604, -4.66379976272583, -4.668399810791016, -5.248600006103516, -5.173500061035156, -5.497000217437744, -5.1828999519348145, -5.207799911499023, -5.005300045013428, -5.4857001304626465, -5.159999847412109, -4.972700119018555, -5.115499973297119, -5.212200164794922, -5.337699890136719, -4.938799858093262, -5.163300037384033, -5.697700023651123, -5.949399948120117, -5.280399799346924, -6.320000171661377, -6.048399925231934, -5.379700183868408, -6.457200050354004, -7.1072001457214355, -7.180500030517578, -5.606100082397461, -7.344900131225586, -7.344900131225586, -7.0584001541137695, -7.442399978637695, -6.620299816131592, -6.895899772644043, -5.176400184631348, -7.541200160980225, -7.446400165557861, -7.541600227355957, -7.541999816894531, -7.544400215148926, -6.019800186157227, -6.053199768066406, -7.297999858856201, -7.786399841308594, -7.786600112915039, -7.7866997718811035, -6.2459001541137695, -7.045899868011475, -6.992700099945068, -3.055500030517578, -6.0894999504089355, -5.025599956512451, -4.303800106048584, -4.582399845123291, -6.384799957275391, -6.217700004577637, -3.8714001178741455, -5.789100170135498, -6.045499801635742, -6.078100204467773, -5.541500091552734, -3.2072999477386475, -5.631700038909912, -6.259799957275391, -5.308499813079834, -4.767199993133545, -4.478799819946289, -4.6442999839782715, -3.6380999088287354, -4.587299823760986, -5.195300102233887, -5.655900001525879, -4.7667999267578125, -5.1427998542785645, -5.644700050354004, -4.872399806976318, -5.094200134277344, -5.367599964141846, -5.502799987792969, -5.030200004577637, -5.459400177001953, -5.470399856567383, -5.321100234985352, -5.373899936676025, -5.4506001472473145, -6.63100004196167, -6.63129997253418, -6.763500213623047, -7.0005998611450195, -7.093599796295166, -6.235000133514404, -7.196499824523926, -7.196599960327148, -7.59119987487793, -7.5914998054504395, -7.591700077056885, -7.591700077056885, -7.592100143432617, -5.928899765014648, -5.483699798583984, -7.767199993133545, -7.76800012588501, -7.770299911499023, -6.172699928283691, -7.980500221252441, -7.9807000160217285, -7.9807000160217285, -7.980899810791016, -7.980999946594238, -7.981100082397461, -7.981200218200684, -7.981400012969971, -7.981599807739258, -7.9816999435424805, -7.9816999435424805, -7.196499824523926, -5.247799873352051, -3.426800012588501, -5.84060001373291, -6.334099769592285, -7.441299915313721, -5.249899864196777, -7.108500003814697, -6.674699783325195, -4.905600070953369, -7.109600067138672, -6.696300029754639, -5.505499839782715, -6.472700119018555, -4.575900077819824, -4.888199806213379, -6.125199794769287, -6.160799980163574, -6.527599811553955, -4.025300025939941, -5.005099773406982, -5.848899841308594, -5.447999954223633, -5.59250020980835, -4.907800197601318, -5.945799827575684, -4.908199787139893, -5.011499881744385, -4.75540018081665, -5.484000205993652, -4.762499809265137, -4.8354997634887695, -4.617499828338623, -5.146399974822998, -5.190700054168701, -5.104800224304199, -5.42579984664917, -4.863800048828125, -5.043099880218506, -5.3821001052856445, -4.855999946594238, -4.90310001373291, -5.093400001525879, -5.321000099182129, -5.207399845123291, -5.261600017547607, -5.222700119018555, -5.22730016708374, -5.4253997802734375, -5.419600009918213, -5.853000164031982, -6.169099807739258, -6.702300071716309, -6.702499866485596, -6.704800128936768, -6.775100231170654, -5.360300064086914, -6.939499855041504, -6.940100193023682, -6.942599773406982, -7.032899856567383, -7.032899856567383, -7.032899856567383, -7.037099838256836, -7.136600017547607, -7.143099784851074, -7.251800060272217, -7.38129997253418, -7.381400108337402, -7.381400108337402, -7.382999897003174, -7.26669979095459, -7.530700206756592, -7.530799865722656, -7.530900001525879, -7.531499862670898, -7.5416998863220215, -6.7230000495910645, -7.706600189208984, -5.690899848937988, -4.9730000495910645, -5.22189998626709, -5.402400016784668, -6.302299976348877, -6.1331000328063965, -4.4369001388549805, -6.179900169372559, -6.712200164794922, -3.3315999507904053, -5.090099811553955, -6.676300048828125, -6.143700122833252, -5.6234002113342285, -5.877999782562256, -5.749100208282471, -4.845900058746338, -4.79610013961792, -4.4608001708984375, -5.924499988555908, -6.397600173950195, -4.6082000732421875, -5.317599773406982, -4.783299922943115, -5.263599872589111, -5.000800132751465, -5.133900165557861, -4.993599891662598, -4.9583001136779785, -5.1894001960754395, -5.52400016784668, -5.061600208282471, -5.283199787139893, -5.32480001449585, -5.642399787902832, -5.421999931335449, -5.538700103759766, -5.627500057220459, -5.576099872589111]}, \"token.table\": {\"Topic\": [1, 2, 3, 4, 5, 1, 2, 5, 2, 2, 5, 1, 5, 2, 1, 4, 5, 4, 3, 1, 2, 3, 4, 5, 3, 1, 2, 3, 4, 5, 1, 3, 1, 2, 3, 4, 5, 1, 2, 3, 4, 2, 1, 3, 5, 2, 3, 4, 5, 4, 3, 4, 5, 1, 2, 1, 2, 5, 1, 2, 3, 4, 5, 1, 2, 3, 4, 1, 1, 2, 3, 4, 5, 1, 5, 5, 1, 1, 2, 3, 4, 5, 1, 2, 3, 4, 5, 1, 2, 3, 4, 5, 1, 3, 4, 5, 1, 1, 2, 3, 4, 5, 1, 4, 5, 5, 1, 4, 5, 1, 2, 4, 2, 3, 4, 4, 1, 5, 1, 5, 1, 2, 3, 4, 5, 1, 2, 4, 3, 1, 2, 3, 4, 5, 2, 1, 1, 2, 1, 1, 4, 1, 2, 1, 2, 3, 4, 1, 2, 3, 4, 5, 1, 2, 5, 1, 2, 3, 4, 5, 1, 2, 2, 3, 1, 2, 1, 2, 3, 4, 5, 5, 1, 2, 3, 4, 5, 2, 3, 4, 2, 3, 4, 5, 2, 3, 4, 3, 1, 2, 3, 4, 5, 1, 2, 3, 4, 5, 1, 2, 3, 4, 5, 1, 2, 3, 4, 5, 2, 3, 4, 5, 1, 2, 3, 4, 5, 1, 2, 3, 4, 5, 4, 5, 1, 3, 4, 5, 1, 2, 3, 4, 5, 2, 3, 4, 5, 2, 1, 2, 5, 1, 2, 3, 4, 5, 2, 4, 5, 2, 3, 4, 5, 4, 5, 3, 4, 5, 5, 1, 2, 2, 3, 1, 2, 4, 4, 4, 2, 5, 2, 4, 4, 1, 2, 3, 4, 2, 1, 3, 1, 2, 3, 4, 5, 5, 3, 5, 1, 3, 2, 3, 4, 1, 3, 4, 3, 5, 1, 2, 4, 5, 1, 1, 2, 3, 4, 5, 4, 1, 5, 1, 2, 3, 4, 5, 1, 2, 3, 4, 5, 1, 2, 3, 4, 5, 3, 1, 2, 3, 4, 5, 1, 2, 3, 4, 5, 1, 2, 3, 4, 5, 1, 2, 5, 1, 2, 4, 5, 5, 1, 3, 5, 1, 3, 3, 3, 1, 2, 5, 2, 3, 4, 5, 1, 2, 3, 4, 5, 5, 1, 2, 3, 1, 2, 3, 4, 2, 3, 4, 1, 2, 4, 5, 2, 2, 4, 2, 1, 2, 3, 4, 4, 2, 4, 5, 1, 4, 4, 1, 2, 4, 5, 1, 2, 3, 5, 1, 2, 3, 4, 5, 1, 4, 3, 1, 2, 3, 4, 5, 3, 1, 2, 3, 4, 5, 2, 3, 5, 2, 3, 4, 2, 5, 1, 1, 2, 3, 4, 5, 5, 4, 1, 5, 2, 2, 2, 1, 2, 3, 1, 4, 2, 1, 1, 5, 1, 2, 3, 4, 5, 1, 2, 3, 5, 1, 2, 4, 5, 1, 2, 4, 5, 1, 2, 3, 4, 5, 1, 2, 3, 4, 5, 1, 5, 1, 2, 3, 4, 5, 1, 2, 3, 4, 5, 3, 1, 1, 2, 3, 4, 5, 1, 2, 4, 4, 4, 5, 1, 2, 3, 4, 5, 1, 2, 3, 4, 2, 2, 1, 2, 3, 4, 5, 4, 1, 1, 1, 2, 3, 4, 5, 2, 3, 4, 5, 1, 2, 3, 4, 5, 1, 2, 3, 4, 5, 1, 2, 4, 5, 1, 1, 2, 3, 4, 5, 1, 1, 2, 5, 1, 2, 3, 4, 5, 5, 1, 2, 4, 4, 2, 5, 1, 2, 3, 5, 5, 2, 2, 1, 3, 4, 5, 1, 2, 3, 4, 5, 2, 1, 2, 5, 4, 1, 2, 3, 4, 5, 1, 2, 4, 5, 4, 1, 2, 4, 1, 3, 1, 2, 3, 4, 2, 4, 5, 5, 1, 2, 3, 4, 1, 1, 2, 3, 4, 5, 2, 3, 1, 2, 3, 4, 4, 5, 1, 2, 3, 4, 5, 4, 5, 1, 2, 3, 5, 3, 4, 3, 1, 3, 5, 1, 2, 3, 4, 5, 5, 5, 1, 2, 3, 4, 5, 1, 5, 1, 2, 4, 5, 1, 1, 4, 1, 2, 3, 4, 5, 3, 3, 5, 1, 2, 3, 4, 5, 1, 2, 3, 4, 5, 1, 2, 3, 4, 5, 1, 5, 1, 2, 4, 1, 2, 3, 4, 5, 1, 2, 1, 2, 3, 4, 5, 1, 3, 4, 1, 1, 2, 3, 4, 5, 1, 2, 3, 4, 5, 1, 1, 2, 3, 5, 3, 5, 1, 2, 3, 4, 5, 3, 2, 3, 4, 1, 2, 3, 4, 1, 3, 1, 2, 3, 4, 5, 2, 1, 2, 3, 4, 5, 1, 2, 3, 4, 5, 1, 1, 2, 3, 4, 5, 1, 2, 3, 4, 5, 4, 1, 2, 3, 4, 5, 2, 1, 2, 5, 1, 2, 3, 4, 5], \"Freq\": [0.315003365278244, 0.3709385395050049, 0.12659013271331787, 0.1030384823679924, 0.08243078738451004, 0.7723740339279175, 0.12872900068759918, 0.07723740488290787, 0.954261064529419, 0.963062047958374, 0.9143429398536682, 0.9580751657485962, 0.929010808467865, 0.9544747471809387, 0.053332291543483734, 0.6933197975158691, 0.1599968820810318, 0.9340901970863342, 0.9644811749458313, 0.3734453022480011, 0.2207353264093399, 0.14715687930583954, 0.09301425516605377, 0.16520442068576813, 0.9379543662071228, 0.3123866617679596, 0.29333871603012085, 0.32457736134529114, 0.061715416610240936, 0.008381105959415436, 0.04280383884906769, 0.9416844844818115, 0.057859670370817184, 0.057859670370817184, 0.7290318608283997, 0.057859670370817184, 0.09257547557353973, 0.1204945519566536, 0.2409891039133072, 0.25952672958374023, 0.38002127408981323, 0.9339213967323303, 0.05637339875102043, 0.9019743800163269, 0.8687679767608643, 0.18478359282016754, 0.21434897184371948, 0.5986988544464111, 0.007391343824565411, 0.8954773545265198, 0.8317504525184631, 0.06161114573478699, 0.06161114573478699, 0.12580427527427673, 0.8386951684951782, 0.8016182780265808, 0.08560971915721893, 0.10895782709121704, 0.16089646518230438, 0.308099627494812, 0.006846658419817686, 0.24647969007492065, 0.27728965878486633, 0.23582203686237335, 0.07860734313726425, 0.039303671568632126, 0.628858745098114, 0.9659380912780762, 0.26368167996406555, 0.4882993996143341, 0.10010137408971786, 0.1171918585896492, 0.03173946216702461, 0.948671817779541, 0.052703987807035446, 0.837353527545929, 0.9581052660942078, 0.4732256829738617, 0.3044317960739136, 0.04521264508366585, 0.11755287647247314, 0.06028352677822113, 0.2426425963640213, 0.3597804009914398, 0.004183493088930845, 0.3053950071334839, 0.08785335719585419, 0.816727876663208, 0.13740789890289307, 0.015439090318977833, 0.01080736331641674, 0.020070817321538925, 0.6911054849624634, 0.07802803814411163, 0.1672029346227646, 0.055734314024448395, 0.9580322504043579, 0.06269078701734543, 0.703032374382019, 0.004477913491427898, 0.21493984758853912, 0.017911653965711594, 0.9429213404655457, 0.8014810681343079, 0.9696240425109863, 0.9317846894264221, 0.1988113969564438, 0.7554833292961121, 0.03976228088140488, 0.8203380703926086, 0.15381339192390442, 0.9201139807701111, 0.050490546971559525, 0.9189279675483704, 0.0201962199062109, 0.9341422915458679, 0.9580461978912354, 0.8373022079467773, 0.8807353377342224, 0.058715689927339554, 0.2520638704299927, 0.6042781472206116, 0.009002281352877617, 0.12040551006793976, 0.014628707431256771, 0.14862430095672607, 0.7579839825630188, 0.08917458355426788, 0.9369117617607117, 0.34144288301467896, 0.609569787979126, 0.010473707690834999, 0.03980008885264397, 0.0020947414450347424, 0.9336469769477844, 0.9723845720291138, 0.8876301050186157, 0.10202644765377045, 0.9487195611000061, 0.26388975977897644, 0.7388913631439209, 0.036133773624897, 0.9394780993461609, 0.023333951830863953, 0.046667903661727905, 0.8633562326431274, 0.07000185549259186, 0.558304488658905, 0.114678755402565, 0.021125033497810364, 0.24142895638942719, 0.06337510049343109, 0.9760535955429077, 0.009476248174905777, 0.009476248174905777, 0.7498800754547119, 0.1901869773864746, 0.010867827571928501, 0.043471310287714005, 0.0054339137859642506, 0.13095232844352722, 0.8605438470840454, 0.943747878074646, 0.03495362773537636, 0.06168308109045029, 0.9252462387084961, 0.34510236978530884, 0.5618974566459656, 0.03981950506567955, 0.03981950506567955, 0.008848778903484344, 0.8935949206352234, 0.19163937866687775, 0.09018323570489883, 0.03381871432065964, 0.6425555348396301, 0.04509161785244942, 0.19417379796504974, 0.3689301908016205, 0.43494927883148193, 0.13932271301746368, 0.041796814650297165, 0.7941395044326782, 0.013932271860539913, 0.1157485619187355, 0.019291426986455917, 0.868114173412323, 0.9644477367401123, 0.1462906450033188, 0.26123329997062683, 0.2884015738964081, 0.1964474469423294, 0.10867305099964142, 0.08521653711795807, 0.1278247982263565, 0.6071678400039673, 0.08521653711795807, 0.10652066767215729, 0.2672582268714905, 0.36676928400993347, 0.1990220844745636, 0.15068815648555756, 0.01705903559923172, 0.15667122602462769, 0.14954979717731476, 0.23500683903694153, 0.3204638659954071, 0.1353069692850113, 0.03998035192489624, 0.18990665674209595, 0.12993614375591278, 0.6296905279159546, 0.22049090266227722, 0.13685642182826996, 0.6082507371902466, 0.01520626898854971, 0.01520626898854971, 0.34499257802963257, 0.4752448797225952, 0.04928465187549591, 0.07040664553642273, 0.06336598098278046, 0.7485268712043762, 0.12475448101758957, 0.0932997539639473, 0.23991365730762482, 0.5864555835723877, 0.06664267927408218, 0.09750024229288101, 0.3278157711029053, 0.5028555393218994, 0.06525606662034988, 0.006909465882927179, 0.06257937848567963, 0.4849901795387268, 0.4380556643009186, 0.9563446044921875, 0.9684410691261292, 0.2652601897716522, 0.7246132493019104, 0.006469761021435261, 0.32456374168395996, 0.13415300846099854, 0.32889124751091003, 0.1817556917667389, 0.03462013229727745, 0.128189355134964, 0.042729783803224564, 0.8118659257888794, 0.11187068372964859, 0.1498268097639084, 0.705184817314148, 0.031963054090738297, 0.7780417203903198, 0.17289815843105316, 0.18992500007152557, 0.7597000002861023, 0.023740625008940697, 0.969607949256897, 0.871227502822876, 0.12016931176185608, 0.013051280751824379, 0.97884601354599, 0.8439224362373352, 0.0640953779220581, 0.08546049892902374, 0.8954711556434631, 0.8954997062683105, 0.13048726320266724, 0.8481671810150146, 0.8915064334869385, 0.08104603737592697, 0.8014721274375916, 0.06515578180551529, 0.07887279242277145, 0.7510061264038086, 0.10287755727767944, 0.919521152973175, 0.9658300876617432, 0.9182563424110413, 0.316262811422348, 0.04907526448369026, 0.3217156231403351, 0.087244912981987, 0.22356508672237396, 0.95636385679245, 0.9934588074684143, 0.9695148468017578, 0.9486995339393616, 0.9956262707710266, 0.15526172518730164, 0.7763086557388306, 0.07763086259365082, 0.9374670386314392, 0.06190820038318634, 0.8954982757568359, 0.9776027202606201, 0.9317816495895386, 0.6969311237335205, 0.14315342903137207, 0.07534390687942505, 0.08664549142122269, 0.9486991763114929, 0.2213905304670334, 0.08917118608951569, 0.47967949509620667, 0.18756698071956635, 0.024598948657512665, 0.8993187546730042, 0.20738990604877472, 0.7604296207427979, 0.19031304121017456, 0.11018123477697372, 0.5709391236305237, 0.10016476362943649, 0.030049428343772888, 0.21365338563919067, 0.012567846104502678, 0.7289350628852844, 0.025135692209005356, 0.012567846104502678, 0.7548705339431763, 0.13642238080501556, 0.0636637806892395, 0.027284476906061172, 0.009094825945794582, 0.8928716778755188, 0.37177762389183044, 0.4395400583744049, 0.04395400360226631, 0.05127967149019241, 0.09157084673643112, 0.24858497083187103, 0.4489370286464691, 0.05565335229039192, 0.15211915969848633, 0.09275558590888977, 0.44677892327308655, 0.2449209839105606, 0.029605833813548088, 0.12649765610694885, 0.15341204404830933, 0.9680910706520081, 0.9667924642562866, 0.7965025901794434, 0.5306103229522705, 0.12678299844264984, 0.1033046618103981, 0.23947899043560028, 0.8682070970535278, 0.9488306045532227, 0.93796306848526, 0.837346076965332, 0.01189297717064619, 0.9752241373062134, 0.9645096659660339, 0.9686257243156433, 0.4098084270954132, 0.056525301188230515, 0.5228590369224548, 0.3517001271247864, 0.019538896158337593, 0.05861668661236763, 0.5666279792785645, 0.08286058902740479, 0.19702406227588654, 0.6205337047576904, 0.08101923763751984, 0.018413463607430458, 0.9317546486854553, 0.056248825043439865, 0.028124412521719933, 0.8718568086624146, 0.0697384849190712, 0.02324616350233555, 0.9066003561019897, 0.8014605045318604, 0.8439521193504333, 0.10549401491880417, 0.052747007459402084, 0.21537376940250397, 0.06153536215424538, 0.0974309891462326, 0.6256095170974731, 0.9449624419212341, 0.9195109009742737, 0.9341357946395874, 0.9194799065589905, 0.10676472634077072, 0.08541177958250046, 0.790058970451355, 0.021352944895625114, 0.8954537510871887, 0.03742978349328041, 0.8608850240707397, 0.07485956698656082, 0.043211016803979874, 0.9074313640594482, 0.8014982342720032, 0.4116881191730499, 0.46069860458374023, 0.09802097827196121, 0.029406294226646423, 0.13198332488536835, 0.06599166244268417, 0.016497915610671043, 0.7589040994644165, 0.2906027138233185, 0.09923019260168076, 0.38983291387557983, 0.15593315660953522, 0.06615345925092697, 0.42344987392425537, 0.5729027986526489, 0.9644878506660461, 0.2593829333782196, 0.27117305994033813, 0.10021613538265228, 0.15327173471450806, 0.21811747550964355, 0.8767459392547607, 0.3595646917819977, 0.12698382139205933, 0.0013366717612370849, 0.02005007676780224, 0.4918951988220215, 0.9336831569671631, 0.8847334980964661, 0.06319525092840195, 0.9542079567909241, 0.10173095762729645, 0.8138476610183716, 0.970130205154419, 0.914595901966095, 0.9828981161117554, 0.32878735661506653, 0.36401456594467163, 0.062066998332738876, 0.10064918547868729, 0.1442638337612152, 0.9145965576171875, 0.8955003023147583, 0.8703679442405701, 0.062169138342142105, 0.954207181930542, 0.9012547731399536, 0.9012497663497925, 0.2511029541492462, 0.7237673401832581, 0.02954152226448059, 0.17101925611495972, 0.7695866227149963, 0.94499671459198, 0.9580469727516174, 0.7867875099182129, 0.19918671250343323, 0.5331380367279053, 0.1450715810060501, 0.014507157728075981, 0.18133947253227234, 0.12331084161996841, 0.8120309114456177, 0.01005611103028059, 0.0025140277575701475, 0.17346790432929993, 0.12304756790399551, 0.12304756790399551, 0.6972695589065552, 0.041015855967998505, 0.3810228705406189, 0.1224716305732727, 0.42184674739837646, 0.06803979724645615, 0.2590767443180084, 0.5093712210655212, 0.05928027257323265, 0.07464922964572906, 0.10099601745605469, 0.24401265382766724, 0.3072751760482788, 0.3072751760482788, 0.11748757213354111, 0.02711251564323902, 0.9840362668037415, 0.9914026856422424, 0.3311641812324524, 0.2933998703956604, 0.06100393086671829, 0.2323959320783615, 0.08133857697248459, 0.5520326495170593, 0.27601632475852966, 0.03788459300994873, 0.10824169218540192, 0.02706042304635048, 0.8928672075271606, 0.9487032890319824, 0.1314821094274521, 0.6516939401626587, 0.17435671389102936, 0.03715798631310463, 0.005716613493859768, 0.7623211145401001, 0.22663600742816925, 0.9374237656593323, 0.8954617977142334, 0.899329662322998, 0.893957257270813, 0.344262033700943, 0.43032753467559814, 0.10418456047773361, 0.058886926621198654, 0.058886926621198654, 0.1984991729259491, 0.30735355615615845, 0.42261114716529846, 0.06403198838233948, 0.919483482837677, 0.9194841384887695, 0.1579757034778595, 0.07522652298212051, 0.315951406955719, 0.35356464982032776, 0.09027183055877686, 0.8954617977142334, 0.9845654368400574, 0.9473223090171814, 0.07065504789352417, 0.40219026803970337, 0.05435003340244293, 0.4456702768802643, 0.027175016701221466, 0.11707127094268799, 0.30731210112571716, 0.08780345320701599, 0.48291900753974915, 0.23523499071598053, 0.36680710315704346, 0.002658022567629814, 0.2578281760215759, 0.13688816130161285, 0.38322678208351135, 0.3880982995033264, 0.014614580199122429, 0.09580669552087784, 0.11691664159297943, 0.39337918162345886, 0.3068915605545044, 0.06416823714971542, 0.23714347183704376, 0.9580407738685608, 0.20311853289604187, 0.6131170392036438, 0.030091634020209312, 0.14293526113033295, 0.011284363456070423, 0.97239750623703, 0.13635942339897156, 0.09545159339904785, 0.7636127471923828, 0.21054427325725555, 0.21054427325725555, 0.5263606905937195, 0.0292422603815794, 0.02339380793273449, 0.9854881763458252, 0.06051388382911682, 0.06051388382911682, 0.8774513006210327, 0.9273828268051147, 0.184616819024086, 0.8000062108039856, 0.059473082423210144, 0.11894616484642029, 0.14868271350860596, 0.6542038917541504, 0.8373470902442932, 0.9012482166290283, 0.9251807928085327, 0.6757834553718567, 0.03218016400933266, 0.10726721584796906, 0.18235427141189575, 0.16530001163482666, 0.1277318298816681, 0.5184409618377686, 0.09392046183347702, 0.09392046183347702, 0.9012527465820312, 0.13565124571323395, 0.056521352380514145, 0.8026031851768494, 0.8955079317092896, 0.3313938081264496, 0.34249311685562134, 0.12526369094848633, 0.14746230840682983, 0.05232533812522888, 0.4865981638431549, 0.06278686225414276, 0.01569671556353569, 0.43950802087783813, 0.9273671507835388, 0.8781792521476746, 0.08781792968511581, 0.04390896484255791, 0.0823582112789154, 0.9059402942657471, 0.1414867341518402, 0.0044214604422450066, 0.7339624166488647, 0.11495797336101532, 0.06968852877616882, 0.06968852877616882, 0.8362622857093811, 0.988501787185669, 0.03754221275448799, 0.054704368114471436, 0.8184202313423157, 0.09010130912065506, 0.9487414956092834, 0.24681618809700012, 0.16284780204296112, 0.4681874215602875, 0.09923537820577621, 0.022900471463799477, 0.9194751977920532, 0.8770198225975037, 0.6413598656654358, 0.1938994973897934, 0.0671190544962883, 0.0969497486948967, 0.8954857587814331, 0.9145960211753845, 0.28967228531837463, 0.5285990834236145, 0.0570886991918087, 0.11840619146823883, 0.004228792618960142, 0.12186241894960403, 0.8530369400978088, 0.024203602224588394, 0.5728185772895813, 0.39532551169395447, 0.00806786771863699, 0.9284143447875977, 0.9756106734275818, 0.9704303741455078, 0.047603607177734375, 0.9044685363769531, 0.023801803588867188, 0.3452059328556061, 0.2494158148765564, 0.22411276400089264, 0.1554330438375473, 0.025303052738308907, 0.9588149189949036, 0.9563682079315186, 0.3020267188549042, 0.4176965355873108, 0.051408801227808, 0.09639150649309158, 0.13173505663871765, 0.21393334865570068, 0.7487667202949524, 0.17639796435832977, 0.05039941892027855, 0.6047930121421814, 0.15119825303554535, 0.9659509062767029, 0.9657983779907227, 0.8014835119247437, 0.2191167175769806, 0.25041911005973816, 0.35997745394706726, 0.08869010210037231, 0.07825597375631332, 0.9379593133926392, 0.8949611783027649, 0.059664078056812286, 0.3594755232334137, 0.5022808313369751, 0.009848644025623798, 0.10833508521318436, 0.019697288051247597, 0.21029174327850342, 0.2506216764450073, 0.2851901650428772, 0.181484654545784, 0.06913701444864273, 0.18581216037273407, 0.6334505677223206, 0.10979809612035751, 0.01689201407134533, 0.059122052043676376, 0.05780737102031708, 0.9249179363250732, 0.20999163389205933, 0.7430473566055298, 0.032306406646966934, 0.38632461428642273, 0.32486388087272644, 0.04390052333474159, 0.06731413304805756, 0.1785287857055664, 0.05242522805929184, 0.8912289142608643, 0.4550962448120117, 0.36341020464897156, 0.01833721064031124, 0.09668711572885513, 0.06501375138759613, 0.031506769359111786, 0.9452030658721924, 0.015753384679555893, 0.9580984711647034, 0.3999325633049011, 0.314232736825943, 0.06325463950634003, 0.08161889016628265, 0.14283306896686554, 0.20339469611644745, 0.650862991809845, 0.013559645973145962, 0.09491752088069916, 0.027119291946291924, 0.9659159183502197, 0.749796986579895, 0.14281846582889557, 0.10711385309696198, 0.017852308228611946, 0.9799691438674927, 0.9563673138618469, 0.6753789186477661, 0.15891268849372864, 0.01702635921537876, 0.01702635921537876, 0.13053542375564575, 0.9561371803283691, 0.07677944004535675, 0.8189806938171387, 0.10237258672714233, 0.04560210928320885, 0.07600351423025131, 0.8056372404098511, 0.06840316206216812, 0.18223002552986145, 0.8070186376571655, 0.10301892459392548, 0.04120757058262825, 0.782943844795227, 0.020603785291314125, 0.061811354011297226, 0.9685012698173523, 0.7274916172027588, 0.1558910608291626, 0.0519636869430542, 0.03464245796203613, 0.0519636869430542, 0.643863320350647, 0.11215683817863464, 0.17031224071979523, 0.058155398815870285, 0.012461870908737183, 0.9659757018089294, 0.2742152810096741, 0.49551182985305786, 0.03367556259036064, 0.014432383701205254, 0.17799939215183258, 0.4131343364715576, 0.3530420660972595, 0.0300461333245039, 0.10516146570444107, 0.09764993190765381, 0.8954584002494812, 0.48805126547813416, 0.2996407747268677, 0.061290159821510315, 0.10669027268886566, 0.045400116592645645, 0.9012685418128967, 0.07051002979278564, 0.3172951638698578, 0.5993353128433228, 0.3542228937149048, 0.1771114468574524, 0.09698960185050964, 0.14759287238121033, 0.22349777817726135], \"Term\": [\"'s\", \"'s\", \"'s\", \"'s\", \"'s\", \"10\", \"10\", \"10\", \"120\", \"120.00\", \"13000.00\", \"19000.00\", \"2.75\", \"2014.\", \"2nd\", \"2nd\", \"2nd\", \"350.00\", \"611\", \"``\", \"``\", \"``\", \"``\", \"``\", \"acc\", \"account\", \"account\", \"account\", \"account\", \"account\", \"accurate\", \"accurate\", \"act\", \"act\", \"act\", \"act\", \"act\", \"advise\", \"advise\", \"advise\", \"advise\", \"aes\", \"affidavit\", \"affidavit\", \"affordable\", \"agency\", \"agency\", \"agency\", \"agency\", \"aide\", \"allege\", \"allege\", \"allege\", \"ally\", \"ally\", \"america\", \"america\", \"america\", \"amount\", \"amount\", \"amount\", \"amount\", \"amount\", \"apartment\", \"apartment\", \"apartment\", \"apartment\", \"apartments\", \"ask\", \"ask\", \"ask\", \"ask\", \"ask\", \"atm\", \"atm\", \"autograph\", \"baby\", \"back\", \"back\", \"back\", \"back\", \"back\", \"balance\", \"balance\", \"balance\", \"balance\", \"balance\", \"bank\", \"bank\", \"bank\", \"bank\", \"bank\", \"bankruptcy\", \"bankruptcy\", \"bankruptcy\", \"bankruptcy\", \"bayview\", \"bill\", \"bill\", \"bill\", \"bill\", \"bill\", \"boa\", \"body\", \"bofa\", \"borrower\", \"box\", \"box\", \"box\", \"branch\", \"branch\", \"bundle\", \"bureaus\", \"bureaus\", \"bureaus\", \"bww\", \"cable\", \"calculations\", \"caliber\", \"caliber\", \"call\", \"call\", \"call\", \"call\", \"call\", \"cancel\", \"cancel\", \"cancel\", \"capitalone\", \"card\", \"card\", \"card\", \"card\", \"card\", \"cardholder\", \"carrington\", \"cash\", \"cash\", \"cc\", \"cease\", \"cease\", \"cell\", \"cell\", \"certify\", \"certify\", \"certify\", \"certify\", \"charge\", \"charge\", \"charge\", \"charge\", \"charge\", \"chase\", \"chase\", \"chase\", \"check\", \"check\", \"check\", \"check\", \"check\", \"citi\", \"citi\", \"citibank\", \"citibank\", \"citizen\", \"citizen\", \"close\", \"close\", \"close\", \"close\", \"close\", \"co-signer\", \"collect\", \"collect\", \"collect\", \"collect\", \"collect\", \"collection\", \"collection\", \"collection\", \"collections\", \"collections\", \"collections\", \"collections\", \"collector\", \"collector\", \"collector\", \"commission\", \"company\", \"company\", \"company\", \"company\", \"company\", \"consumer\", \"consumer\", \"consumer\", \"consumer\", \"consumer\", \"contact\", \"contact\", \"contact\", \"contact\", \"contact\", \"continue\", \"continue\", \"continue\", \"continue\", \"continue\", \"contract\", \"contract\", \"contract\", \"contract\", \"copy\", \"copy\", \"copy\", \"copy\", \"copy\", \"could\", \"could\", \"could\", \"could\", \"could\", \"count\", \"count\", \"court\", \"court\", \"court\", \"court\", \"credit\", \"credit\", \"credit\", \"credit\", \"credit\", \"creditor\", \"creditor\", \"creditor\", \"cure\", \"curtis\", \"customer\", \"customer\", \"customer\", \"date\", \"date\", \"date\", \"date\", \"date\", \"daughter\", \"daughter\", \"daughter\", \"debt\", \"debt\", \"debt\", \"debt\", \"debtor\", \"debtor\", \"debts\", \"debts\", \"debts\", \"deferment\", \"delay\", \"delay\", \"delete\", \"delete\", \"deposit\", \"deposit\", \"deposit\", \"dirty\", \"dis\", \"disclosure\", \"disclosure\", \"disconnect\", \"disconnect\", \"disgust\", \"dispute\", \"dispute\", \"dispute\", \"dispute\", \"diversify\", \"divorce\", \"dob\", \"document\", \"document\", \"document\", \"document\", \"document\", \"dtd\", \"equifax\", \"estate\", \"everbank\", \"experian\", \"fair\", \"fair\", \"fair\", \"fargo\", \"fargo\", \"fco\", \"fcra\", \"fedloan\", \"fee\", \"fee\", \"fee\", \"fee\", \"fhb\", \"file\", \"file\", \"file\", \"file\", \"file\", \"fms\", \"forbearance\", \"forbearance\", \"fraud\", \"fraud\", \"fraud\", \"fraud\", \"fraud\", \"fraudulent\", \"fraudulent\", \"fraudulent\", \"fraudulent\", \"fraudulent\", \"fund\", \"fund\", \"fund\", \"fund\", \"fund\", \"furnisher\", \"get\", \"get\", \"get\", \"get\", \"get\", \"give\", \"give\", \"give\", \"give\", \"give\", \"go\", \"go\", \"go\", \"go\", \"go\", \"hamp\", \"hang\", \"helpful\", \"home\", \"home\", \"home\", \"home\", \"homeowners\", \"hsbc\", \"hyundai\", \"ibr\", \"identity\", \"identity\", \"inaccuracies\", \"inaccurate\", \"income\", \"income\", \"income\", \"increase\", \"increase\", \"increase\", \"increase\", \"information\", \"information\", \"information\", \"information\", \"information\", \"ink\", \"inquiries\", \"inquiries\", \"inquiries\", \"inquiry\", \"inquiry\", \"inquiry\", \"ins\", \"insist\", \"insist\", \"insist\", \"interest\", \"interest\", \"interest\", \"interest\", \"international\", \"interrupt\", \"intimidate\", \"iq\", \"item\", \"item\", \"item\", \"item\", \"itemize\", \"judgement\", \"judgement\", \"judgement\", \"judgment\", \"judgment\", \"kitchen\", \"late\", \"late\", \"late\", \"late\", \"lender\", \"lender\", \"lender\", \"lender\", \"letter\", \"letter\", \"letter\", \"letter\", \"letter\", \"lien\", \"lien\", \"liens\", \"like\", \"like\", \"like\", \"like\", \"like\", \"limitations\", \"loan\", \"loan\", \"loan\", \"loan\", \"loan\", \"loancare\", \"lvnv\", \"lvnv\", \"lynch\", \"machine\", \"machine\", \"macy\", \"mae\", \"maintenance\", \"make\", \"make\", \"make\", \"make\", \"make\", \"man/woman\", \"mas\", \"mastercard\", \"mastercard\", \"mbfs\", \"merchandise\", \"merill\", \"message\", \"message\", \"message\", \"midland\", \"midland\", \"miles\", \"mod\", \"modification\", \"modification\", \"money\", \"money\", \"money\", \"money\", \"money\", \"mortgage\", \"mortgage\", \"mortgage\", \"mortgage\", \"mother\", \"mother\", \"mother\", \"mother\", \"move\", \"move\", \"move\", \"move\", \"n't\", \"n't\", \"n't\", \"n't\", \"n't\", \"name\", \"name\", \"name\", \"name\", \"name\", \"nationstar\", \"navient\", \"never\", \"never\", \"never\", \"never\", \"never\", \"new\", \"new\", \"new\", \"new\", \"new\", \"nissan\", \"nsf\", \"number\", \"number\", \"number\", \"number\", \"number\", \"ocwen\", \"ocwen\", \"offices\", \"older\", \"ols\", \"ombudsman\", \"one\", \"one\", \"one\", \"one\", \"one\", \"open\", \"open\", \"open\", \"open\", \"opt\", \"oracle\", \"original\", \"original\", \"original\", \"original\", \"original\", \"overcharge\", \"overdraft\", \"overdraw\", \"owe\", \"owe\", \"owe\", \"owe\", \"owe\", \"party\", \"party\", \"party\", \"party\", \"pay\", \"pay\", \"pay\", \"pay\", \"pay\", \"payment\", \"payment\", \"payment\", \"payment\", \"payment\", \"payments\", \"payments\", \"payments\", \"payments\", \"paypal\", \"phone\", \"phone\", \"phone\", \"phone\", \"phone\", \"pin\", \"plan\", \"plan\", \"plan\", \"please\", \"please\", \"please\", \"please\", \"please\", \"pnc\", \"portfolio\", \"portfolio\", \"portfolio\", \"pra\", \"predatory\", \"predatory\", \"private\", \"private\", \"private\", \"private\", \"promissory\", \"promo\", \"promotion\", \"property\", \"property\", \"property\", \"property\", \"provide\", \"provide\", \"provide\", \"provide\", \"provide\", \"rash\", \"rate\", \"rate\", \"rate\", \"rc\", \"receive\", \"receive\", \"receive\", \"receive\", \"receive\", \"refinance\", \"refinance\", \"refinance\", \"refinance\", \"regions\", \"reject\", \"reject\", \"reject\", \"removal\", \"removal\", \"remove\", \"remove\", \"remove\", \"remove\", \"repay\", \"repay\", \"repay\", \"repayment\", \"report\", \"report\", \"report\", \"report\", \"repossess\", \"request\", \"request\", \"request\", \"request\", \"request\", \"resort\", \"resurgent\", \"return\", \"return\", \"return\", \"return\", \"safety\", \"sallie\", \"say\", \"say\", \"say\", \"say\", \"say\", \"school\", \"school\", \"score\", \"score\", \"score\", \"score\", \"scottrade\", \"scra\", \"sec\", \"section\", \"section\", \"section\", \"send\", \"send\", \"send\", \"send\", \"send\", \"seneca\", \"sentient\", \"service\", \"service\", \"service\", \"service\", \"service\", \"servicer\", \"servicer\", \"settlement\", \"settlement\", \"settlement\", \"settlement\", \"seven\", \"shell\", \"shortage\", \"show\", \"show\", \"show\", \"show\", \"show\", \"sir\", \"solutions\", \"solutions\", \"speak\", \"speak\", \"speak\", \"speak\", \"speak\", \"state\", \"state\", \"state\", \"state\", \"state\", \"statement\", \"statement\", \"statement\", \"statement\", \"statement\", \"student\", \"student\", \"supervisor\", \"supervisor\", \"supervisor\", \"take\", \"take\", \"take\", \"take\", \"take\", \"target\", \"target\", \"tell\", \"tell\", \"tell\", \"tell\", \"tell\", \"theft\", \"theft\", \"theft\", \"throughout\", \"time\", \"time\", \"time\", \"time\", \"time\", \"today\", \"today\", \"today\", \"today\", \"today\", \"trans\", \"transaction\", \"transaction\", \"transaction\", \"transaction\", \"transunion\", \"university\", \"us\", \"us\", \"us\", \"us\", \"us\", \"usc\", \"validate\", \"validate\", \"validate\", \"verify\", \"verify\", \"verify\", \"verify\", \"victim\", \"victim\", \"violation\", \"violation\", \"violation\", \"violation\", \"violation\", \"voicemail\", \"wait\", \"wait\", \"wait\", \"wait\", \"wait\", \"well\", \"well\", \"well\", \"well\", \"well\", \"withdrawal\", \"work\", \"work\", \"work\", \"work\", \"work\", \"would\", \"would\", \"would\", \"would\", \"would\", \"x-wife\", \"xx/xx/xxxx\", \"xx/xx/xxxx\", \"xx/xx/xxxx\", \"xx/xx/xxxx\", \"xx/xx/xxxx\", \"xxxx/rash\", \"xxxx/xxxx/2016\", \"xxxx/xxxx/2016\", \"xxxx/xxxx/2016\", \"years\", \"years\", \"years\", \"years\", \"years\"]}, \"R\": 30, \"lambda.step\": 0.01, \"plot.opts\": {\"xlab\": \"PC1\", \"ylab\": \"PC2\"}, \"topic.order\": [3, 5, 1, 4, 2]};\n",
       "\n",
       "function LDAvis_load_lib(url, callback){\n",
       "  var s = document.createElement('script');\n",
       "  s.src = url;\n",
       "  s.async = true;\n",
       "  s.onreadystatechange = s.onload = callback;\n",
       "  s.onerror = function(){console.warn(\"failed to load library \" + url);};\n",
       "  document.getElementsByTagName(\"head\")[0].appendChild(s);\n",
       "}\n",
       "\n",
       "if(typeof(LDAvis) !== \"undefined\"){\n",
       "   // already loaded: just create the visualization\n",
       "   !function(LDAvis){\n",
       "       new LDAvis(\"#\" + \"ldavis_el54807641694705049242204320\", ldavis_el54807641694705049242204320_data);\n",
       "   }(LDAvis);\n",
       "}else if(typeof define === \"function\" && define.amd){\n",
       "   // require.js is available: use it to load d3/LDAvis\n",
       "   require.config({paths: {d3: \"https://cdnjs.cloudflare.com/ajax/libs/d3/3.5.5/d3.min\"}});\n",
       "   require([\"d3\"], function(d3){\n",
       "      window.d3 = d3;\n",
       "      LDAvis_load_lib(\"https://cdn.rawgit.com/bmabey/pyLDAvis/files/ldavis.v1.0.0.js\", function(){\n",
       "        new LDAvis(\"#\" + \"ldavis_el54807641694705049242204320\", ldavis_el54807641694705049242204320_data);\n",
       "      });\n",
       "    });\n",
       "}else{\n",
       "    // require.js not available: dynamically load d3 & LDAvis\n",
       "    LDAvis_load_lib(\"https://cdnjs.cloudflare.com/ajax/libs/d3/3.5.5/d3.min.js\", function(){\n",
       "         LDAvis_load_lib(\"https://cdn.rawgit.com/bmabey/pyLDAvis/files/ldavis.v1.0.0.js\", function(){\n",
       "                 new LDAvis(\"#\" + \"ldavis_el54807641694705049242204320\", ldavis_el54807641694705049242204320_data);\n",
       "            })\n",
       "         });\n",
       "}\n",
       "</script>"
      ],
      "text/plain": [
       "PreparedData(topic_coordinates=              x         y  topics  cluster       Freq\n",
       "topic                                                \n",
       "2      0.057504 -0.051486       1        1  30.640062\n",
       "4      0.021178 -0.087450       2        1  26.420645\n",
       "0     -0.195975  0.057452       3        1  18.603769\n",
       "3     -0.020253 -0.030824       4        1  12.493309\n",
       "1      0.137546  0.112308       5        1  11.842222, topic_info=     Category         Freq            Term        Total  loglift  logprob\n",
       "term                                                                     \n",
       "8     Default   932.000000          report   932.000000  30.0000  30.0000\n",
       "57    Default   748.000000            loan   748.000000  29.0000  29.0000\n",
       "110   Default   500.000000            debt   500.000000  28.0000  28.0000\n",
       "0     Default  1302.000000          credit  1302.000000  27.0000  27.0000\n",
       "70    Default   752.000000             pay   752.000000  26.0000  26.0000\n",
       "29    Default   888.000000            call   888.000000  25.0000  25.0000\n",
       "2     Default   543.000000     information   543.000000  24.0000  24.0000\n",
       "272   Default   397.000000        mortgage   397.000000  23.0000  23.0000\n",
       "26    Default   647.000000            bank   647.000000  22.0000  22.0000\n",
       "1     Default   291.000000         dispute   291.000000  21.0000  21.0000\n",
       "54    Default   195.000000        interest   195.000000  20.0000  20.0000\n",
       "460   Default   257.000000      collection   257.000000  19.0000  19.0000\n",
       "17    Default  1312.000000         account  1312.000000  18.0000  18.0000\n",
       "7     Default   226.000000          remove   226.000000  17.0000  17.0000\n",
       "393   Default   477.000000            card   477.000000  16.0000  16.0000\n",
       "351   Default   116.000000         equifax   116.000000  15.0000  15.0000\n",
       "20    Default   292.000000          amount   292.000000  14.0000  14.0000\n",
       "116   Default    93.000000        experian    93.000000  13.0000  13.0000\n",
       "691   Default   135.000000          agency   135.000000  12.0000  12.0000\n",
       "458   Default   223.000000            bill   223.000000  11.0000  11.0000\n",
       "726   Default    88.000000            rate    88.000000  10.0000  10.0000\n",
       "369   Default   358.000000        payments   358.000000   9.0000   9.0000\n",
       "308   Default   325.000000            file   325.000000   8.0000   8.0000\n",
       "498   Default   183.000000             owe   183.000000   7.0000   7.0000\n",
       "31    Default   368.000000           check   368.000000   6.0000   6.0000\n",
       "675   Default    99.000000         bureaus    99.000000   5.0000   5.0000\n",
       "360   Default   131.000000          verify   131.000000   4.0000   4.0000\n",
       "202   Default    84.000000        identity    84.000000   3.0000   3.0000\n",
       "394   Default   331.000000          charge   331.000000   2.0000   2.0000\n",
       "139   Default   393.000000         request   393.000000   1.0000   1.0000\n",
       "...       ...          ...             ...          ...      ...      ...\n",
       "57     Topic5   368.351227            loan   748.126831   1.4250  -3.3316\n",
       "1342   Topic5    63.467880        contract   100.049149   1.6784  -5.0901\n",
       "440    Topic5    12.991638       predatory    16.249874   1.9097  -6.6763\n",
       "1004   Topic5    22.130417         private    33.628658   1.7151  -6.1437\n",
       "808    Topic5    37.235565          income    70.764771   1.4914  -5.6234\n",
       "436    Topic5    28.863819        increase    51.179966   1.5607  -5.8780\n",
       "817    Topic5    32.836754           party    68.334442   1.4006  -5.7491\n",
       "20     Topic5    81.021118          amount   292.113312   0.8511  -4.8459\n",
       "369    Topic5    85.159721        payments   358.432800   0.6963  -4.7961\n",
       "102    Topic5   119.085548              ``   720.319702   0.3336  -4.4608\n",
       "279    Topic5    27.553009       refinance    63.707596   1.2953  -5.9245\n",
       "2898   Topic5    17.168556  xxxx/xxxx/2016    28.364758   1.6314  -6.3976\n",
       "70     Topic5   102.766220             pay   752.439087   0.1426  -4.6082\n",
       "267    Topic5    50.552467            home   212.962311   0.6954  -5.3176\n",
       "61     Topic5    86.260872            make   596.130005   0.2004  -4.7833\n",
       "11     Topic5    53.359509           years   237.138824   0.6419  -5.2636\n",
       "272    Topic5    69.397240        mortgage   397.768097   0.3875  -5.0008\n",
       "91     Topic5    60.749210            take   341.681580   0.4064  -5.1339\n",
       "342    Topic5    69.896675            time   490.082611   0.1859  -4.9936\n",
       "71     Topic5    72.408470         payment   615.823364  -0.0071  -4.9583\n",
       "477    Topic5    57.466934              go   371.548401   0.2670  -5.1894\n",
       "191    Topic5    41.127068        document   183.391785   0.6385  -5.5240\n",
       "99     Topic5    65.305191           would   665.643066  -0.1882  -5.0616\n",
       "151    Topic5    52.320770         company   478.499481  -0.0798  -5.2832\n",
       "48     Topic5    50.191818             get   546.025330  -0.2533  -5.3248\n",
       "130    Topic5    36.532448            like   169.633362   0.5981  -5.6424\n",
       "132    Topic5    45.540405             n't   455.463501  -0.1692  -5.4220\n",
       "656    Topic5    40.526009         service   311.230743   0.0949  -5.5387\n",
       "600    Topic5    37.080986            work   207.865875   0.4097  -5.6275\n",
       "93     Topic5    39.039360            tell   599.873108  -0.5986  -5.5761\n",
       "\n",
       "[400 rows x 6 columns], token_table=      Topic      Freq            Term\n",
       "term                                 \n",
       "13        1  0.315003              's\n",
       "13        2  0.370939              's\n",
       "13        3  0.126590              's\n",
       "13        4  0.103038              's\n",
       "13        5  0.082431              's\n",
       "14        1  0.772374              10\n",
       "14        2  0.128729              10\n",
       "14        5  0.077237              10\n",
       "2070      2  0.954261             120\n",
       "1670      2  0.963062          120.00\n",
       "3222      5  0.914343        13000.00\n",
       "1174      1  0.958075        19000.00\n",
       "3225      5  0.929011            2.75\n",
       "3782      2  0.954475           2014.\n",
       "1442      1  0.053332             2nd\n",
       "1442      4  0.693320             2nd\n",
       "1442      5  0.159997             2nd\n",
       "250       4  0.934090          350.00\n",
       "2240      3  0.964481             611\n",
       "102       1  0.373445              ``\n",
       "102       2  0.220735              ``\n",
       "102       3  0.147157              ``\n",
       "102       4  0.093014              ``\n",
       "102       5  0.165204              ``\n",
       "5148      3  0.937954             acc\n",
       "17        1  0.312387         account\n",
       "17        2  0.293339         account\n",
       "17        3  0.324577         account\n",
       "17        4  0.061715         account\n",
       "17        5  0.008381         account\n",
       "...     ...       ...             ...\n",
       "843       2  0.112157            well\n",
       "843       3  0.170312            well\n",
       "843       4  0.058155            well\n",
       "843       5  0.012462            well\n",
       "765       1  0.965976      withdrawal\n",
       "600       1  0.274215            work\n",
       "600       2  0.495512            work\n",
       "600       3  0.033676            work\n",
       "600       4  0.014432            work\n",
       "600       5  0.177999            work\n",
       "99        1  0.413134           would\n",
       "99        2  0.353042           would\n",
       "99        3  0.030046           would\n",
       "99        4  0.105161           would\n",
       "99        5  0.097650           would\n",
       "5796      4  0.895458          x-wife\n",
       "425       1  0.488051      xx/xx/xxxx\n",
       "425       2  0.299641      xx/xx/xxxx\n",
       "425       3  0.061290      xx/xx/xxxx\n",
       "425       4  0.106690      xx/xx/xxxx\n",
       "425       5  0.045400      xx/xx/xxxx\n",
       "5321      2  0.901269       xxxx/rash\n",
       "2898      1  0.070510  xxxx/xxxx/2016\n",
       "2898      2  0.317295  xxxx/xxxx/2016\n",
       "2898      5  0.599335  xxxx/xxxx/2016\n",
       "11        1  0.354223           years\n",
       "11        2  0.177111           years\n",
       "11        3  0.096990           years\n",
       "11        4  0.147593           years\n",
       "11        5  0.223498           years\n",
       "\n",
       "[790 rows x 3 columns], R=30, lambda_step=0.01, plot_opts={'xlab': 'PC1', 'ylab': 'PC2'}, topic_order=[3, 5, 1, 4, 2])"
      ]
     },
     "execution_count": 18,
     "metadata": {},
     "output_type": "execute_result"
    }
   ],
   "source": [
    "pyLDAvis.enable_notebook()\n",
    "vis = pyLDAvis.gensim.prepare(ldamodel, doc_term_matrix, dictionary)\n",
    "vis"
   ]
  },
  {
   "cell_type": "code",
   "execution_count": null,
   "metadata": {},
   "outputs": [],
   "source": []
  }
 ],
 "metadata": {
  "kernelspec": {
   "display_name": "Python 3",
   "language": "python",
   "name": "python3"
  },
  "language_info": {
   "codemirror_mode": {
    "name": "ipython",
    "version": 3
   },
   "file_extension": ".py",
   "mimetype": "text/x-python",
   "name": "python",
   "nbconvert_exporter": "python",
   "pygments_lexer": "ipython3",
   "version": "3.6.7"
  }
 },
 "nbformat": 4,
 "nbformat_minor": 2
}
