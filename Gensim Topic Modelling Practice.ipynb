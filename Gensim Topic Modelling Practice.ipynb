{
 "cells": [
  {
   "cell_type": "code",
   "execution_count": 1,
   "metadata": {},
   "outputs": [
    {
     "name": "stderr",
     "output_type": "stream",
     "text": [
      "C:\\Users\\Samarth\\Anaconda3\\lib\\site-packages\\gensim\\utils.py:1212: UserWarning: detected Windows; aliasing chunkize to chunkize_serial\n",
      "  warnings.warn(\"detected Windows; aliasing chunkize to chunkize_serial\")\n"
     ]
    }
   ],
   "source": [
    "import pandas as pd\n",
    "import re\n",
    "import gensim\n",
    "import nltk\n",
    "from nltk.corpus import stopwords\n",
    "from nltk.stem import WordNetLemmatizer\n",
    "from string import punctuation\n",
    "from gensim.corpora import Dictionary\n",
    "from nltk.tokenize import word_tokenize\n",
    "from gensim.models.ldamodel import LdaModel,CoherenceModel"
   ]
  },
  {
   "cell_type": "code",
   "execution_count": 2,
   "metadata": {},
   "outputs": [],
   "source": [
    "df = pd.read_json('https://raw.githubusercontent.com/selva86/datasets/master/newsgroups.json')"
   ]
  },
  {
   "cell_type": "code",
   "execution_count": 3,
   "metadata": {},
   "outputs": [
    {
     "data": {
      "text/html": [
       "<div>\n",
       "<style scoped>\n",
       "    .dataframe tbody tr th:only-of-type {\n",
       "        vertical-align: middle;\n",
       "    }\n",
       "\n",
       "    .dataframe tbody tr th {\n",
       "        vertical-align: top;\n",
       "    }\n",
       "\n",
       "    .dataframe thead th {\n",
       "        text-align: right;\n",
       "    }\n",
       "</style>\n",
       "<table border=\"1\" class=\"dataframe\">\n",
       "  <thead>\n",
       "    <tr style=\"text-align: right;\">\n",
       "      <th></th>\n",
       "      <th>content</th>\n",
       "      <th>target</th>\n",
       "      <th>target_names</th>\n",
       "    </tr>\n",
       "  </thead>\n",
       "  <tbody>\n",
       "    <tr>\n",
       "      <th>0</th>\n",
       "      <td>From: lerxst@wam.umd.edu (where's my thing)\\nS...</td>\n",
       "      <td>7</td>\n",
       "      <td>rec.autos</td>\n",
       "    </tr>\n",
       "    <tr>\n",
       "      <th>1</th>\n",
       "      <td>From: guykuo@carson.u.washington.edu (Guy Kuo)...</td>\n",
       "      <td>4</td>\n",
       "      <td>comp.sys.mac.hardware</td>\n",
       "    </tr>\n",
       "    <tr>\n",
       "      <th>10</th>\n",
       "      <td>From: irwin@cmptrc.lonestar.org (Irwin Arnstei...</td>\n",
       "      <td>8</td>\n",
       "      <td>rec.motorcycles</td>\n",
       "    </tr>\n",
       "    <tr>\n",
       "      <th>100</th>\n",
       "      <td>From: tchen@magnus.acs.ohio-state.edu (Tsung-K...</td>\n",
       "      <td>6</td>\n",
       "      <td>misc.forsale</td>\n",
       "    </tr>\n",
       "    <tr>\n",
       "      <th>1000</th>\n",
       "      <td>From: dabl2@nlm.nih.gov (Don A.B. Lindbergh)\\n...</td>\n",
       "      <td>2</td>\n",
       "      <td>comp.os.ms-windows.misc</td>\n",
       "    </tr>\n",
       "  </tbody>\n",
       "</table>\n",
       "</div>"
      ],
      "text/plain": [
       "                                                content  target  \\\n",
       "0     From: lerxst@wam.umd.edu (where's my thing)\\nS...       7   \n",
       "1     From: guykuo@carson.u.washington.edu (Guy Kuo)...       4   \n",
       "10    From: irwin@cmptrc.lonestar.org (Irwin Arnstei...       8   \n",
       "100   From: tchen@magnus.acs.ohio-state.edu (Tsung-K...       6   \n",
       "1000  From: dabl2@nlm.nih.gov (Don A.B. Lindbergh)\\n...       2   \n",
       "\n",
       "                 target_names  \n",
       "0                   rec.autos  \n",
       "1       comp.sys.mac.hardware  \n",
       "10            rec.motorcycles  \n",
       "100              misc.forsale  \n",
       "1000  comp.os.ms-windows.misc  "
      ]
     },
     "execution_count": 3,
     "metadata": {},
     "output_type": "execute_result"
    }
   ],
   "source": [
    "df.head()"
   ]
  },
  {
   "cell_type": "code",
   "execution_count": 4,
   "metadata": {},
   "outputs": [],
   "source": [
    "def removing_email(text):\n",
    "    text = re.sub('\\S*@\\S*\\s',' ',text)\n",
    "    return text\n",
    "def only_words(text):\n",
    "    text = re.sub('\\W+',' ',text)\n",
    "    return text"
   ]
  },
  {
   "cell_type": "code",
   "execution_count": 5,
   "metadata": {},
   "outputs": [],
   "source": [
    "stop_words = list(set(stopwords.words('english')))+list(punctuation)+['\\n','----','----\\n\\n\\n\\n\\n']\n",
    "lem = WordNetLemmatizer()"
   ]
  },
  {
   "cell_type": "code",
   "execution_count": 6,
   "metadata": {},
   "outputs": [],
   "source": [
    "def cleaning(text):\n",
    "    text = text.lower()\n",
    "    words = word_tokenize(text)\n",
    "    words = [w for w in words if w not in stop_words]\n",
    "    words = [w for w in words if len(w)>=3]\n",
    "    lemma = [lem.lemmatize(w,'v') for w in words]\n",
    "    return lemma"
   ]
  },
  {
   "cell_type": "code",
   "execution_count": 7,
   "metadata": {},
   "outputs": [],
   "source": [
    "df['without email'] = df['content'].apply(removing_email)\n",
    "df['only words'] = df['without email'].apply(only_words)\n",
    "df['clean content'] = df['only words'].apply(cleaning)"
   ]
  },
  {
   "cell_type": "code",
   "execution_count": 8,
   "metadata": {},
   "outputs": [
    {
     "data": {
      "text/html": [
       "<div>\n",
       "<style scoped>\n",
       "    .dataframe tbody tr th:only-of-type {\n",
       "        vertical-align: middle;\n",
       "    }\n",
       "\n",
       "    .dataframe tbody tr th {\n",
       "        vertical-align: top;\n",
       "    }\n",
       "\n",
       "    .dataframe thead th {\n",
       "        text-align: right;\n",
       "    }\n",
       "</style>\n",
       "<table border=\"1\" class=\"dataframe\">\n",
       "  <thead>\n",
       "    <tr style=\"text-align: right;\">\n",
       "      <th></th>\n",
       "      <th>content</th>\n",
       "      <th>target</th>\n",
       "      <th>target_names</th>\n",
       "      <th>without email</th>\n",
       "      <th>only words</th>\n",
       "      <th>clean content</th>\n",
       "    </tr>\n",
       "  </thead>\n",
       "  <tbody>\n",
       "    <tr>\n",
       "      <th>0</th>\n",
       "      <td>From: lerxst@wam.umd.edu (where's my thing)\\nS...</td>\n",
       "      <td>7</td>\n",
       "      <td>rec.autos</td>\n",
       "      <td>From:  (where's my thing)\\nSubject: WHAT car i...</td>\n",
       "      <td>From where s my thing Subject WHAT car is this...</td>\n",
       "      <td>[thing, subject, car, nntp, post, host, rac3, ...</td>\n",
       "    </tr>\n",
       "    <tr>\n",
       "      <th>1</th>\n",
       "      <td>From: guykuo@carson.u.washington.edu (Guy Kuo)...</td>\n",
       "      <td>4</td>\n",
       "      <td>comp.sys.mac.hardware</td>\n",
       "      <td>From:  (Guy Kuo)\\nSubject: SI Clock Poll - Fin...</td>\n",
       "      <td>From Guy Kuo Subject SI Clock Poll Final Call ...</td>\n",
       "      <td>[guy, kuo, subject, clock, poll, final, call, ...</td>\n",
       "    </tr>\n",
       "    <tr>\n",
       "      <th>10</th>\n",
       "      <td>From: irwin@cmptrc.lonestar.org (Irwin Arnstei...</td>\n",
       "      <td>8</td>\n",
       "      <td>rec.motorcycles</td>\n",
       "      <td>From:  (Irwin Arnstein)\\nSubject: Re: Recommen...</td>\n",
       "      <td>From Irwin Arnstein Subject Re Recommendation ...</td>\n",
       "      <td>[irwin, arnstein, subject, recommendation, duc...</td>\n",
       "    </tr>\n",
       "    <tr>\n",
       "      <th>100</th>\n",
       "      <td>From: tchen@magnus.acs.ohio-state.edu (Tsung-K...</td>\n",
       "      <td>6</td>\n",
       "      <td>misc.forsale</td>\n",
       "      <td>From:  (Tsung-Kun Chen)\\nSubject: ** Software ...</td>\n",
       "      <td>From Tsung Kun Chen Subject Software forsale l...</td>\n",
       "      <td>[tsung, kun, chen, subject, software, forsale,...</td>\n",
       "    </tr>\n",
       "    <tr>\n",
       "      <th>1000</th>\n",
       "      <td>From: dabl2@nlm.nih.gov (Don A.B. Lindbergh)\\n...</td>\n",
       "      <td>2</td>\n",
       "      <td>comp.os.ms-windows.misc</td>\n",
       "      <td>From:  (Don A.B. Lindbergh)\\nSubject: Diamond ...</td>\n",
       "      <td>From Don A B Lindbergh Subject Diamond SS24X W...</td>\n",
       "      <td>[lindbergh, subject, diamond, ss24x, win, mous...</td>\n",
       "    </tr>\n",
       "  </tbody>\n",
       "</table>\n",
       "</div>"
      ],
      "text/plain": [
       "                                                content  target  \\\n",
       "0     From: lerxst@wam.umd.edu (where's my thing)\\nS...       7   \n",
       "1     From: guykuo@carson.u.washington.edu (Guy Kuo)...       4   \n",
       "10    From: irwin@cmptrc.lonestar.org (Irwin Arnstei...       8   \n",
       "100   From: tchen@magnus.acs.ohio-state.edu (Tsung-K...       6   \n",
       "1000  From: dabl2@nlm.nih.gov (Don A.B. Lindbergh)\\n...       2   \n",
       "\n",
       "                 target_names  \\\n",
       "0                   rec.autos   \n",
       "1       comp.sys.mac.hardware   \n",
       "10            rec.motorcycles   \n",
       "100              misc.forsale   \n",
       "1000  comp.os.ms-windows.misc   \n",
       "\n",
       "                                          without email  \\\n",
       "0     From:  (where's my thing)\\nSubject: WHAT car i...   \n",
       "1     From:  (Guy Kuo)\\nSubject: SI Clock Poll - Fin...   \n",
       "10    From:  (Irwin Arnstein)\\nSubject: Re: Recommen...   \n",
       "100   From:  (Tsung-Kun Chen)\\nSubject: ** Software ...   \n",
       "1000  From:  (Don A.B. Lindbergh)\\nSubject: Diamond ...   \n",
       "\n",
       "                                             only words  \\\n",
       "0     From where s my thing Subject WHAT car is this...   \n",
       "1     From Guy Kuo Subject SI Clock Poll Final Call ...   \n",
       "10    From Irwin Arnstein Subject Re Recommendation ...   \n",
       "100   From Tsung Kun Chen Subject Software forsale l...   \n",
       "1000  From Don A B Lindbergh Subject Diamond SS24X W...   \n",
       "\n",
       "                                          clean content  \n",
       "0     [thing, subject, car, nntp, post, host, rac3, ...  \n",
       "1     [guy, kuo, subject, clock, poll, final, call, ...  \n",
       "10    [irwin, arnstein, subject, recommendation, duc...  \n",
       "100   [tsung, kun, chen, subject, software, forsale,...  \n",
       "1000  [lindbergh, subject, diamond, ss24x, win, mous...  "
      ]
     },
     "execution_count": 8,
     "metadata": {},
     "output_type": "execute_result"
    }
   ],
   "source": [
    " df.head()"
   ]
  },
  {
   "cell_type": "code",
   "execution_count": 9,
   "metadata": {},
   "outputs": [],
   "source": [
    "clean_doc = list(df['clean content'].values)"
   ]
  },
  {
   "cell_type": "code",
   "execution_count": 10,
   "metadata": {},
   "outputs": [],
   "source": [
    "dictionary = Dictionary(clean_doc)"
   ]
  },
  {
   "cell_type": "code",
   "execution_count": 11,
   "metadata": {},
   "outputs": [],
   "source": [
    "corpus = [dictionary.doc2bow(doc) for doc in clean_doc]"
   ]
  },
  {
   "cell_type": "code",
   "execution_count": 12,
   "metadata": {},
   "outputs": [],
   "source": [
    "ldamodel = LdaModel(corpus=corpus,id2word=dictionary,num_topics=5,random_state=42,update_every=1,passes=50)"
   ]
  },
  {
   "cell_type": "code",
   "execution_count": 13,
   "metadata": {},
   "outputs": [
    {
     "name": "stdout",
     "output_type": "stream",
     "text": [
      "[(0, '0.004*\"would\" + 0.004*\"people\" + 0.004*\"state\" + 0.004*\"government\" + 0.004*\"space\" + 0.004*\"use\" + 0.003*\"gun\" + 0.003*\"say\" + 0.003*\"write\" + 0.003*\"one\"'), (1, '0.008*\"line\" + 0.007*\"subject\" + 0.007*\"organization\" + 0.006*\"game\" + 0.006*\"key\" + 0.005*\"team\" + 0.005*\"get\" + 0.005*\"write\" + 0.005*\"post\" + 0.005*\"article\"'), (2, '0.060*\"max\" + 0.021*\"g9v\" + 0.013*\"b8f\" + 0.012*\"a86\" + 0.009*\"145\" + 0.007*\"1d9\" + 0.005*\"2di\" + 0.005*\"75u\" + 0.005*\"34u\" + 0.004*\"bhj\"'), (3, '0.011*\"line\" + 0.010*\"subject\" + 0.009*\"use\" + 0.009*\"organization\" + 0.006*\"post\" + 0.006*\"get\" + 0.005*\"write\" + 0.005*\"host\" + 0.004*\"nntp\" + 0.004*\"university\"'), (4, '0.009*\"say\" + 0.008*\"write\" + 0.008*\"one\" + 0.008*\"people\" + 0.008*\"would\" + 0.007*\"think\" + 0.006*\"know\" + 0.006*\"subject\" + 0.006*\"line\" + 0.006*\"article\"')]\n"
     ]
    }
   ],
   "source": [
    "print(ldamodel.print_topics())"
   ]
  },
  {
   "cell_type": "code",
   "execution_count": 14,
   "metadata": {},
   "outputs": [
    {
     "name": "stdout",
     "output_type": "stream",
     "text": [
      "-8.576443357121759\n"
     ]
    }
   ],
   "source": [
    "print(ldamodel.log_perplexity(corpus))\n",
    "#-7.95"
   ]
  },
  {
   "cell_type": "code",
   "execution_count": 15,
   "metadata": {},
   "outputs": [],
   "source": [
    "coherence = CoherenceModel(ldamodel,texts=clean_doc,dictionary=dictionary,coherence='c_v')"
   ]
  },
  {
   "cell_type": "code",
   "execution_count": 16,
   "metadata": {},
   "outputs": [
    {
     "data": {
      "text/plain": [
       "0.5733406039201119"
      ]
     },
     "execution_count": 16,
     "metadata": {},
     "output_type": "execute_result"
    }
   ],
   "source": [
    "coherence.get_coherence()"
   ]
  },
  {
   "cell_type": "markdown",
   "metadata": {},
   "source": [
    "##### 0.33"
   ]
  },
  {
   "cell_type": "code",
   "execution_count": null,
   "metadata": {},
   "outputs": [],
   "source": []
  }
 ],
 "metadata": {
  "kernelspec": {
   "display_name": "Python 3",
   "language": "python",
   "name": "python3"
  },
  "language_info": {
   "codemirror_mode": {
    "name": "ipython",
    "version": 3
   },
   "file_extension": ".py",
   "mimetype": "text/x-python",
   "name": "python",
   "nbconvert_exporter": "python",
   "pygments_lexer": "ipython3",
   "version": "3.6.7"
  }
 },
 "nbformat": 4,
 "nbformat_minor": 2
}
